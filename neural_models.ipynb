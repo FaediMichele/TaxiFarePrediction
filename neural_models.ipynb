{
  "cells": [
    {
      "cell_type": "markdown",
      "source": [
        "# NYC Taxi fare prediction - Neural Models"
      ],
      "metadata": {
        "id": "jx6AWA5WNa74"
      }
    },
    {
      "cell_type": "markdown",
      "source": [
        "## Parametrization"
      ],
      "metadata": {
        "id": "ObdKVxNBNp4n"
      }
    },
    {
      "cell_type": "code",
      "source": [
        "import ipywidgets as widgets\n",
        "from IPython.display import display\n",
        "\n",
        "# Save/load path for models\n",
        "baseline_model_path_widget = widgets.Text(description='Baseline model',\n",
        "                                          value='baseline.model')\n",
        "outsiders_model_path_widget = widgets.Text(description='Outsiders model',\n",
        "                                           value='outsiders.model')\n",
        "urban_model_path_widget = widgets.Text(description='Urban model',\n",
        "                                       value='urban.model')\n",
        "\n",
        "# Load paths of the dataset\n",
        "train_path_widget = widgets.Text(description='Train set',\n",
        "                                 value='datasets/train.parquet')\n",
        "valid_path_widget = widgets.Text(description='Validation set',\n",
        "                                 value='datasets/valid.parquet')\n",
        "test_path_widget = widgets.Text(description='Test set',\n",
        "                                value='datasets/test.parquet')\n",
        "kaggle_test_path_widget = widgets.Text(description='Kaggle test set',\n",
        "                                       value='datasets/kaggle_test.parquet')\n",
        "kaggle_submission_path_widget = widgets.Text(\n",
        "    description='Kaggle sumbission file',\n",
        "    value='kaggle_submission.csv')"
      ],
      "metadata": {
        "id": "TLRL15o7aU_g"
      },
      "execution_count": null,
      "outputs": []
    },
    {
      "cell_type": "code",
      "source": [
        "display(baseline_model_path_widget)\n",
        "display(outsiders_model_path_widget)\n",
        "display(urban_model_path_widget)\n",
        "\n",
        "display(train_path_widget)\n",
        "display(valid_path_widget)\n",
        "display(test_path_widget)\n",
        "display(kaggle_test_path_widget)\n",
        "display(kaggle_submission_path_widget)"
      ],
      "metadata": {
        "colab": {
          "base_uri": "https://localhost:8080/",
          "height": 263,
          "referenced_widgets": [
            "4f524ebc1e9b4e1796154cd875d7e66c",
            "3cc7f71176a74d4c97bcf0fe193e7b67",
            "248442ecd1d94cde87a1648f9379771b",
            "5ffbf58847dd4a0699c8d8a3bb94985a",
            "00ca3c2c02b44d989ed163c3ded29432",
            "b15076e5df674d49af9d8b65d58fe539",
            "cb385ac510d44985815b7266b426fa99",
            "ae75f14ed40e4e089eaf59d54640099c",
            "88237aad00ef47d68a4a83c99390d305",
            "7d29b81461b245b298f4ef222780ad7e",
            "dc9293ba9e314342a1441d4437431422",
            "c31adee1e5a34c1093cba9c8c19242de",
            "99e63b43b37d465aa6b48c9fe1222bcb",
            "1fbf9361333845adb4eefd8890a7eae9",
            "76371c0230ff427d8e6d451189d39844",
            "7e3b4e3a276b48b591af338ca79af1c9",
            "3b4fd55cc0e04809bb1c1df413638216",
            "e73414d19e6b4fddbc67ee638226dffa",
            "8a9f2612397b436b95a1b42be2af7b2a",
            "1e02954cc87b4928bb84ccb5dc62dc71",
            "d16fefa2db9e42bf988255e1358181ed",
            "4022e2066db6401c90b592892369f7e4",
            "342d77955e4540b2b51a75550ce7ed4d",
            "2ed32b549be34f5c960448d03602cd47"
          ]
        },
        "id": "uQDbd4YNIEdq",
        "outputId": "ca7e962f-7a9f-42ff-a7f2-2d6406dfd576"
      },
      "execution_count": null,
      "outputs": [
        {
          "output_type": "display_data",
          "data": {
            "text/plain": [
              "Text(value='baseline.model', description='Baseline model')"
            ],
            "application/vnd.jupyter.widget-view+json": {
              "version_major": 2,
              "version_minor": 0,
              "model_id": "4f524ebc1e9b4e1796154cd875d7e66c"
            }
          },
          "metadata": {}
        },
        {
          "output_type": "display_data",
          "data": {
            "text/plain": [
              "Text(value='outsiders.model', description='Outsiders model')"
            ],
            "application/vnd.jupyter.widget-view+json": {
              "version_major": 2,
              "version_minor": 0,
              "model_id": "5ffbf58847dd4a0699c8d8a3bb94985a"
            }
          },
          "metadata": {}
        },
        {
          "output_type": "display_data",
          "data": {
            "text/plain": [
              "Text(value='urban.model', description='Urban model')"
            ],
            "application/vnd.jupyter.widget-view+json": {
              "version_major": 2,
              "version_minor": 0,
              "model_id": "cb385ac510d44985815b7266b426fa99"
            }
          },
          "metadata": {}
        },
        {
          "output_type": "display_data",
          "data": {
            "text/plain": [
              "Text(value='datasets/train.parquet', description='Train set')"
            ],
            "application/vnd.jupyter.widget-view+json": {
              "version_major": 2,
              "version_minor": 0,
              "model_id": "7d29b81461b245b298f4ef222780ad7e"
            }
          },
          "metadata": {}
        },
        {
          "output_type": "display_data",
          "data": {
            "text/plain": [
              "Text(value='datasets/valid.parquet', description='Validation set')"
            ],
            "application/vnd.jupyter.widget-view+json": {
              "version_major": 2,
              "version_minor": 0,
              "model_id": "99e63b43b37d465aa6b48c9fe1222bcb"
            }
          },
          "metadata": {}
        },
        {
          "output_type": "display_data",
          "data": {
            "text/plain": [
              "Text(value='datasets/test.parquet', description='Test set')"
            ],
            "application/vnd.jupyter.widget-view+json": {
              "version_major": 2,
              "version_minor": 0,
              "model_id": "7e3b4e3a276b48b591af338ca79af1c9"
            }
          },
          "metadata": {}
        },
        {
          "output_type": "display_data",
          "data": {
            "text/plain": [
              "Text(value='datasets/kaggle_test.parquet', description='Kaggle test set')"
            ],
            "application/vnd.jupyter.widget-view+json": {
              "version_major": 2,
              "version_minor": 0,
              "model_id": "8a9f2612397b436b95a1b42be2af7b2a"
            }
          },
          "metadata": {}
        },
        {
          "output_type": "display_data",
          "data": {
            "text/plain": [
              "Text(value='kaggle_submission.csv', description='Kaggle test set')"
            ],
            "application/vnd.jupyter.widget-view+json": {
              "version_major": 2,
              "version_minor": 0,
              "model_id": "4022e2066db6401c90b592892369f7e4"
            }
          },
          "metadata": {}
        }
      ]
    },
    {
      "cell_type": "code",
      "source": [
        "baseline_model_path = baseline_model_path_widget.value\n",
        "outsiders_model_path = outsiders_model_path_widget.value\n",
        "urban_model_path = urban_model_path_widget.value\n",
        "\n",
        "train_path = train_path_widget.value\n",
        "valid_path = valid_path_widget.value\n",
        "test_path = test_path_widget.value\n",
        "kaggle_test_path = kaggle_test_path_widget.value\n",
        "kaggle_submission_path = kaggle_submission_path_widget.value\n",
        "\n",
        "print('Linear model path:', baseline_model_path)\n",
        "print('Outsiders model path:', outsiders_model_path)\n",
        "print('Urban model path:', urban_model_path)\n",
        "\n",
        "print('Train set path:', train_path)\n",
        "print('Valid set path:', valid_path)\n",
        "print('Test set path:', test_path)\n",
        "print('Kaggle test set path:', kaggle_test_path)\n",
        "print('Kaggle submission save path:', kaggle_submission_path)"
      ],
      "metadata": {
        "colab": {
          "base_uri": "https://localhost:8080/"
        },
        "id": "27rnAuq7JrK8",
        "outputId": "87e76512-2d52-4b71-dbff-60cf48bad9bb"
      },
      "execution_count": null,
      "outputs": [
        {
          "output_type": "stream",
          "name": "stdout",
          "text": [
            "Linear model path: drive/MyDrive/taxifare/baseline.model\n",
            "Outsiders model path: drive/MyDrive/taxifare/outsiders.model\n",
            "Urban model path: drive/MyDrive/taxifare/urban.model\n",
            "Train set path: drive/MyDrive/taxifare/train.parquet\n",
            "Valid set path: drive/MyDrive/taxifare/valid.parquet\n",
            "Test set path: drive/MyDrive/taxifare/test.parquet\n",
            "Kaggle test set path: drive/MyDrive/taxifare/kaggle_test_rich.parquet\n",
            "Kaggle submission save path: drive/MyDrive/taxifare/kaggle_submission.csv\n"
          ]
        }
      ]
    },
    {
      "cell_type": "markdown",
      "source": [
        "## Colab setup\n",
        "Automatically skipped if not working in a colab environment"
      ],
      "metadata": {
        "id": "KBkmRXDVN1UV"
      }
    },
    {
      "cell_type": "code",
      "source": [
        "on_colab = True\n",
        "try:\n",
        "    import google.colab\n",
        "except ImportError:\n",
        "    on_colab = False\n",
        "\n",
        "print('Are we on colab?', on_colab)"
      ],
      "metadata": {
        "colab": {
          "base_uri": "https://localhost:8080/"
        },
        "id": "oDlp4FvRYMWs",
        "outputId": "8ab79f00-cd97-459e-f065-614a7c3a87ba"
      },
      "execution_count": null,
      "outputs": [
        {
          "output_type": "stream",
          "name": "stdout",
          "text": [
            "Are we on colab? True\n"
          ]
        }
      ]
    },
    {
      "cell_type": "markdown",
      "source": [
        "Download `taxifare` library, install dependencies, download other related data."
      ],
      "metadata": {
        "id": "bSLMYl2gZY2T"
      }
    },
    {
      "cell_type": "code",
      "execution_count": null,
      "metadata": {
        "colab": {
          "base_uri": "https://localhost:8080/"
        },
        "id": "FTyoM5PKFyOl",
        "outputId": "985e94dc-a04e-4753-a925-dba025cc3377"
      },
      "outputs": [
        {
          "output_type": "stream",
          "name": "stdout",
          "text": [
            "fatal: destination path 'taxi' already exists and is not an empty directory.\n",
            "Requirement already satisfied: networkx in /usr/local/lib/python3.10/dist-packages (from -r taxi/requirements.txt (line 1)) (3.1)\n",
            "Requirement already satisfied: osmnx in /usr/local/lib/python3.10/dist-packages (from -r taxi/requirements.txt (line 2)) (1.4.0)\n",
            "Requirement already satisfied: matplotlib in /usr/local/lib/python3.10/dist-packages (from -r taxi/requirements.txt (line 3)) (3.7.1)\n",
            "Requirement already satisfied: polars in /usr/local/lib/python3.10/dist-packages (from -r taxi/requirements.txt (line 4)) (0.17.3)\n",
            "Requirement already satisfied: scipy in /usr/local/lib/python3.10/dist-packages (from -r taxi/requirements.txt (line 5)) (1.10.1)\n",
            "Requirement already satisfied: scikit-learn in /usr/local/lib/python3.10/dist-packages (from -r taxi/requirements.txt (line 6)) (1.2.2)\n",
            "Requirement already satisfied: pyarrow in /usr/local/lib/python3.10/dist-packages (from -r taxi/requirements.txt (line 7)) (9.0.0)\n",
            "Requirement already satisfied: requests in /usr/local/lib/python3.10/dist-packages (from -r taxi/requirements.txt (line 8)) (2.27.1)\n",
            "Requirement already satisfied: seaborn in /usr/local/lib/python3.10/dist-packages (from -r taxi/requirements.txt (line 9)) (0.12.2)\n",
            "Requirement already satisfied: tqdm in /usr/local/lib/python3.10/dist-packages (from -r taxi/requirements.txt (line 10)) (4.65.0)\n",
            "Requirement already satisfied: rasterio in /usr/local/lib/python3.10/dist-packages (from -r taxi/requirements.txt (line 11)) (1.3.7)\n",
            "Requirement already satisfied: shapely in /usr/local/lib/python3.10/dist-packages (from -r taxi/requirements.txt (line 12)) (2.0.1)\n",
            "Requirement already satisfied: numpy in /usr/local/lib/python3.10/dist-packages (from -r taxi/requirements.txt (line 13)) (1.22.4)\n",
            "Requirement already satisfied: tensorflow in /usr/local/lib/python3.10/dist-packages (from -r taxi/requirements.txt (line 14)) (2.12.0)\n",
            "Requirement already satisfied: geopandas>=0.12 in /usr/local/lib/python3.10/dist-packages (from osmnx->-r taxi/requirements.txt (line 2)) (0.13.2)\n",
            "Requirement already satisfied: pandas>=1.1 in /usr/local/lib/python3.10/dist-packages (from osmnx->-r taxi/requirements.txt (line 2)) (1.5.3)\n",
            "Requirement already satisfied: contourpy>=1.0.1 in /usr/local/lib/python3.10/dist-packages (from matplotlib->-r taxi/requirements.txt (line 3)) (1.1.0)\n",
            "Requirement already satisfied: cycler>=0.10 in /usr/local/lib/python3.10/dist-packages (from matplotlib->-r taxi/requirements.txt (line 3)) (0.11.0)\n",
            "Requirement already satisfied: fonttools>=4.22.0 in /usr/local/lib/python3.10/dist-packages (from matplotlib->-r taxi/requirements.txt (line 3)) (4.40.0)\n",
            "Requirement already satisfied: kiwisolver>=1.0.1 in /usr/local/lib/python3.10/dist-packages (from matplotlib->-r taxi/requirements.txt (line 3)) (1.4.4)\n",
            "Requirement already satisfied: packaging>=20.0 in /usr/local/lib/python3.10/dist-packages (from matplotlib->-r taxi/requirements.txt (line 3)) (23.1)\n",
            "Requirement already satisfied: pillow>=6.2.0 in /usr/local/lib/python3.10/dist-packages (from matplotlib->-r taxi/requirements.txt (line 3)) (8.4.0)\n",
            "Requirement already satisfied: pyparsing>=2.3.1 in /usr/local/lib/python3.10/dist-packages (from matplotlib->-r taxi/requirements.txt (line 3)) (3.1.0)\n",
            "Requirement already satisfied: python-dateutil>=2.7 in /usr/local/lib/python3.10/dist-packages (from matplotlib->-r taxi/requirements.txt (line 3)) (2.8.2)\n",
            "Requirement already satisfied: typing_extensions>=4.0.1 in /usr/local/lib/python3.10/dist-packages (from polars->-r taxi/requirements.txt (line 4)) (4.6.3)\n",
            "Requirement already satisfied: joblib>=1.1.1 in /usr/local/lib/python3.10/dist-packages (from scikit-learn->-r taxi/requirements.txt (line 6)) (1.2.0)\n",
            "Requirement already satisfied: threadpoolctl>=2.0.0 in /usr/local/lib/python3.10/dist-packages (from scikit-learn->-r taxi/requirements.txt (line 6)) (3.1.0)\n",
            "Requirement already satisfied: urllib3<1.27,>=1.21.1 in /usr/local/lib/python3.10/dist-packages (from requests->-r taxi/requirements.txt (line 8)) (1.26.16)\n",
            "Requirement already satisfied: certifi>=2017.4.17 in /usr/local/lib/python3.10/dist-packages (from requests->-r taxi/requirements.txt (line 8)) (2023.5.7)\n",
            "Requirement already satisfied: charset-normalizer~=2.0.0 in /usr/local/lib/python3.10/dist-packages (from requests->-r taxi/requirements.txt (line 8)) (2.0.12)\n",
            "Requirement already satisfied: idna<4,>=2.5 in /usr/local/lib/python3.10/dist-packages (from requests->-r taxi/requirements.txt (line 8)) (3.4)\n",
            "Requirement already satisfied: affine in /usr/local/lib/python3.10/dist-packages (from rasterio->-r taxi/requirements.txt (line 11)) (2.4.0)\n",
            "Requirement already satisfied: attrs in /usr/local/lib/python3.10/dist-packages (from rasterio->-r taxi/requirements.txt (line 11)) (23.1.0)\n",
            "Requirement already satisfied: click>=4.0 in /usr/local/lib/python3.10/dist-packages (from rasterio->-r taxi/requirements.txt (line 11)) (8.1.3)\n",
            "Requirement already satisfied: cligj>=0.5 in /usr/local/lib/python3.10/dist-packages (from rasterio->-r taxi/requirements.txt (line 11)) (0.7.2)\n",
            "Requirement already satisfied: snuggs>=1.4.1 in /usr/local/lib/python3.10/dist-packages (from rasterio->-r taxi/requirements.txt (line 11)) (1.4.7)\n",
            "Requirement already satisfied: click-plugins in /usr/local/lib/python3.10/dist-packages (from rasterio->-r taxi/requirements.txt (line 11)) (1.1.1)\n",
            "Requirement already satisfied: setuptools in /usr/local/lib/python3.10/dist-packages (from rasterio->-r taxi/requirements.txt (line 11)) (67.7.2)\n",
            "Requirement already satisfied: absl-py>=1.0.0 in /usr/local/lib/python3.10/dist-packages (from tensorflow->-r taxi/requirements.txt (line 14)) (1.4.0)\n",
            "Requirement already satisfied: astunparse>=1.6.0 in /usr/local/lib/python3.10/dist-packages (from tensorflow->-r taxi/requirements.txt (line 14)) (1.6.3)\n",
            "Requirement already satisfied: flatbuffers>=2.0 in /usr/local/lib/python3.10/dist-packages (from tensorflow->-r taxi/requirements.txt (line 14)) (23.5.26)\n",
            "Requirement already satisfied: gast<=0.4.0,>=0.2.1 in /usr/local/lib/python3.10/dist-packages (from tensorflow->-r taxi/requirements.txt (line 14)) (0.4.0)\n",
            "Requirement already satisfied: google-pasta>=0.1.1 in /usr/local/lib/python3.10/dist-packages (from tensorflow->-r taxi/requirements.txt (line 14)) (0.2.0)\n",
            "Requirement already satisfied: grpcio<2.0,>=1.24.3 in /usr/local/lib/python3.10/dist-packages (from tensorflow->-r taxi/requirements.txt (line 14)) (1.56.0)\n",
            "Requirement already satisfied: h5py>=2.9.0 in /usr/local/lib/python3.10/dist-packages (from tensorflow->-r taxi/requirements.txt (line 14)) (3.8.0)\n",
            "Requirement already satisfied: jax>=0.3.15 in /usr/local/lib/python3.10/dist-packages (from tensorflow->-r taxi/requirements.txt (line 14)) (0.4.10)\n",
            "Requirement already satisfied: keras<2.13,>=2.12.0 in /usr/local/lib/python3.10/dist-packages (from tensorflow->-r taxi/requirements.txt (line 14)) (2.12.0)\n",
            "Requirement already satisfied: libclang>=13.0.0 in /usr/local/lib/python3.10/dist-packages (from tensorflow->-r taxi/requirements.txt (line 14)) (16.0.0)\n",
            "Requirement already satisfied: opt-einsum>=2.3.2 in /usr/local/lib/python3.10/dist-packages (from tensorflow->-r taxi/requirements.txt (line 14)) (3.3.0)\n",
            "Requirement already satisfied: protobuf!=4.21.0,!=4.21.1,!=4.21.2,!=4.21.3,!=4.21.4,!=4.21.5,<5.0.0dev,>=3.20.3 in /usr/local/lib/python3.10/dist-packages (from tensorflow->-r taxi/requirements.txt (line 14)) (3.20.3)\n",
            "Requirement already satisfied: six>=1.12.0 in /usr/local/lib/python3.10/dist-packages (from tensorflow->-r taxi/requirements.txt (line 14)) (1.16.0)\n",
            "Requirement already satisfied: tensorboard<2.13,>=2.12 in /usr/local/lib/python3.10/dist-packages (from tensorflow->-r taxi/requirements.txt (line 14)) (2.12.3)\n",
            "Requirement already satisfied: tensorflow-estimator<2.13,>=2.12.0 in /usr/local/lib/python3.10/dist-packages (from tensorflow->-r taxi/requirements.txt (line 14)) (2.12.0)\n",
            "Requirement already satisfied: termcolor>=1.1.0 in /usr/local/lib/python3.10/dist-packages (from tensorflow->-r taxi/requirements.txt (line 14)) (2.3.0)\n",
            "Requirement already satisfied: wrapt<1.15,>=1.11.0 in /usr/local/lib/python3.10/dist-packages (from tensorflow->-r taxi/requirements.txt (line 14)) (1.14.1)\n",
            "Requirement already satisfied: tensorflow-io-gcs-filesystem>=0.23.1 in /usr/local/lib/python3.10/dist-packages (from tensorflow->-r taxi/requirements.txt (line 14)) (0.32.0)\n",
            "Requirement already satisfied: wheel<1.0,>=0.23.0 in /usr/local/lib/python3.10/dist-packages (from astunparse>=1.6.0->tensorflow->-r taxi/requirements.txt (line 14)) (0.40.0)\n",
            "Requirement already satisfied: fiona>=1.8.19 in /usr/local/lib/python3.10/dist-packages (from geopandas>=0.12->osmnx->-r taxi/requirements.txt (line 2)) (1.9.4.post1)\n",
            "Requirement already satisfied: pyproj>=3.0.1 in /usr/local/lib/python3.10/dist-packages (from geopandas>=0.12->osmnx->-r taxi/requirements.txt (line 2)) (3.6.0)\n",
            "Requirement already satisfied: ml-dtypes>=0.1.0 in /usr/local/lib/python3.10/dist-packages (from jax>=0.3.15->tensorflow->-r taxi/requirements.txt (line 14)) (0.2.0)\n",
            "Requirement already satisfied: pytz>=2020.1 in /usr/local/lib/python3.10/dist-packages (from pandas>=1.1->osmnx->-r taxi/requirements.txt (line 2)) (2022.7.1)\n",
            "Requirement already satisfied: google-auth<3,>=1.6.3 in /usr/local/lib/python3.10/dist-packages (from tensorboard<2.13,>=2.12->tensorflow->-r taxi/requirements.txt (line 14)) (2.17.3)\n",
            "Requirement already satisfied: google-auth-oauthlib<1.1,>=0.5 in /usr/local/lib/python3.10/dist-packages (from tensorboard<2.13,>=2.12->tensorflow->-r taxi/requirements.txt (line 14)) (1.0.0)\n",
            "Requirement already satisfied: markdown>=2.6.8 in /usr/local/lib/python3.10/dist-packages (from tensorboard<2.13,>=2.12->tensorflow->-r taxi/requirements.txt (line 14)) (3.4.3)\n",
            "Requirement already satisfied: tensorboard-data-server<0.8.0,>=0.7.0 in /usr/local/lib/python3.10/dist-packages (from tensorboard<2.13,>=2.12->tensorflow->-r taxi/requirements.txt (line 14)) (0.7.1)\n",
            "Requirement already satisfied: werkzeug>=1.0.1 in /usr/local/lib/python3.10/dist-packages (from tensorboard<2.13,>=2.12->tensorflow->-r taxi/requirements.txt (line 14)) (2.3.6)\n",
            "Requirement already satisfied: cachetools<6.0,>=2.0.0 in /usr/local/lib/python3.10/dist-packages (from google-auth<3,>=1.6.3->tensorboard<2.13,>=2.12->tensorflow->-r taxi/requirements.txt (line 14)) (5.3.1)\n",
            "Requirement already satisfied: pyasn1-modules>=0.2.1 in /usr/local/lib/python3.10/dist-packages (from google-auth<3,>=1.6.3->tensorboard<2.13,>=2.12->tensorflow->-r taxi/requirements.txt (line 14)) (0.3.0)\n",
            "Requirement already satisfied: rsa<5,>=3.1.4 in /usr/local/lib/python3.10/dist-packages (from google-auth<3,>=1.6.3->tensorboard<2.13,>=2.12->tensorflow->-r taxi/requirements.txt (line 14)) (4.9)\n",
            "Requirement already satisfied: requests-oauthlib>=0.7.0 in /usr/local/lib/python3.10/dist-packages (from google-auth-oauthlib<1.1,>=0.5->tensorboard<2.13,>=2.12->tensorflow->-r taxi/requirements.txt (line 14)) (1.3.1)\n",
            "Requirement already satisfied: MarkupSafe>=2.1.1 in /usr/local/lib/python3.10/dist-packages (from werkzeug>=1.0.1->tensorboard<2.13,>=2.12->tensorflow->-r taxi/requirements.txt (line 14)) (2.1.3)\n",
            "Requirement already satisfied: pyasn1<0.6.0,>=0.4.6 in /usr/local/lib/python3.10/dist-packages (from pyasn1-modules>=0.2.1->google-auth<3,>=1.6.3->tensorboard<2.13,>=2.12->tensorflow->-r taxi/requirements.txt (line 14)) (0.5.0)\n",
            "Requirement already satisfied: oauthlib>=3.0.0 in /usr/local/lib/python3.10/dist-packages (from requests-oauthlib>=0.7.0->google-auth-oauthlib<1.1,>=0.5->tensorboard<2.13,>=2.12->tensorflow->-r taxi/requirements.txt (line 14)) (3.2.2)\n",
            "mkdir: cannot create directory ‘datasets/’: File exists\n",
            "--2023-06-27 18:46:06--  https://geodata.lib.utexas.edu/download/file/sde-columbia-nycp_2007_nynh-geojson.json\n",
            "Resolving geodata.lib.utexas.edu (geodata.lib.utexas.edu)... 128.83.214.42\n",
            "Connecting to geodata.lib.utexas.edu (geodata.lib.utexas.edu)|128.83.214.42|:443... connected.\n",
            "HTTP request sent, awaiting response... 500 Internal Server Error\n",
            "2023-06-27 18:46:07 ERROR 500: Internal Server Error.\n",
            "\n",
            "mv: cannot stat 'sde-columbia-nycp_2007_nynh-geojson.json': No such file or directory\n"
          ]
        }
      ],
      "source": [
        "if on_colab:\n",
        "    !git clone https://github.com/FaediMichele/TaxiFarePrediction taxi\n",
        "    !pip install -r taxi/requirements.txt\n",
        "    !cp -r taxi/taxifare .\n",
        "    !mkdir datasets/\n",
        "    !wget https://geodata.lib.utexas.edu/download/file/sde-columbia-nycp_2007_nynh-geojson.json\n",
        "    !mv sde-columbia-nycp_2007_nynh-geojson.json datasets/"
      ]
    },
    {
      "cell_type": "markdown",
      "source": [
        "Sync drive."
      ],
      "metadata": {
        "id": "H1Wy_qBQZfdl"
      }
    },
    {
      "cell_type": "code",
      "source": [
        "if on_colab:\n",
        "    from google.colab import drive\n",
        "    drive.mount('/content/drive')"
      ],
      "metadata": {
        "colab": {
          "base_uri": "https://localhost:8080/"
        },
        "id": "NsGvxBsmZOxV",
        "outputId": "8df96d99-f262-4a22-84ff-e1db488920fa"
      },
      "execution_count": null,
      "outputs": [
        {
          "output_type": "stream",
          "name": "stdout",
          "text": [
            "Drive already mounted at /content/drive; to attempt to forcibly remount, call drive.mount(\"/content/drive\", force_remount=True).\n"
          ]
        }
      ]
    },
    {
      "cell_type": "markdown",
      "source": [
        "## Load data"
      ],
      "metadata": {
        "id": "1YlmxecLZntP"
      }
    },
    {
      "cell_type": "code",
      "execution_count": null,
      "metadata": {
        "id": "GUigJwFq9ZVk"
      },
      "outputs": [],
      "source": [
        "import pickle\n",
        "import os.path\n",
        "from typing import Dict, Tuple, Callable\n",
        "from itertools import cycle\n",
        "\n",
        "import numpy as np\n",
        "import polars as pl\n",
        "import tensorflow as tf\n",
        "from tensorflow import keras\n",
        "from tensorflow.keras import layers, callbacks, optimizers, models\n",
        "import tensorflow.keras.backend as K\n",
        "import matplotlib.pyplot as plt\n",
        "\n",
        "import taxifare.data as data\n",
        "import taxifare.boroughs as boroughs\n",
        "import taxifare.models as taximodels\n",
        "\n",
        "plt.rcParams['figure.figsize'] = (15, 7)"
      ]
    },
    {
      "cell_type": "markdown",
      "source": [
        "Loaded data undergoes a small amount of final processing. Heavy preprocessing should be carried out a priori by the `taxifare.preprocess` script."
      ],
      "metadata": {
        "id": "nbcIRP_OXUJY"
      }
    },
    {
      "cell_type": "code",
      "execution_count": null,
      "metadata": {
        "id": "jKUrqQ1Uc_xj"
      },
      "outputs": [],
      "source": [
        "def fare_amount_filter(column='fare_amount', min_=0, max_=200):\n",
        "  return pl.col(column).is_between(0, 200, 'none')\n",
        "\n",
        "train_lazy = pl.scan_parquet(train_path).filter(fare_amount_filter())\n",
        "valid_lazy = pl.scan_parquet(valid_path).filter(fare_amount_filter())\n",
        "test_lazy = pl.scan_parquet(test_path).filter(fare_amount_filter())"
      ]
    },
    {
      "cell_type": "code",
      "execution_count": null,
      "metadata": {
        "id": "V1p1O_DKeOjs"
      },
      "outputs": [],
      "source": [
        "train_df = train_lazy.collect()\n",
        "valid_df = valid_lazy.collect()\n",
        "test_df = test_lazy.collect()"
      ]
    },
    {
      "cell_type": "code",
      "execution_count": null,
      "metadata": {
        "colab": {
          "base_uri": "https://localhost:8080/",
          "height": 255
        },
        "id": "iE65fiIBVzkY",
        "outputId": "57a9c917-ebf8-4fad-d624-9957ff4fda4b"
      },
      "outputs": [
        {
          "output_type": "execute_result",
          "data": {
            "text/plain": [
              "shape: (5, 13)\n",
              "┌─────────────┬────────────┬────────────┬───────────────┬───┬─────────┬──────┬───────────┬─────────┐\n",
              "│ fare_amount ┆ pickup_lon ┆ pickup_lat ┆ dropoff_longi ┆ … ┆ weekday ┆ hour ┆ after2012 ┆ weekend │\n",
              "│ ---         ┆ gitude     ┆ itude      ┆ tude          ┆   ┆ ---     ┆ ---  ┆ ---       ┆ ---     │\n",
              "│ f64         ┆ ---        ┆ ---        ┆ ---           ┆   ┆ u32     ┆ u32  ┆ bool      ┆ bool    │\n",
              "│             ┆ f64        ┆ f64        ┆ f64           ┆   ┆         ┆      ┆           ┆         │\n",
              "╞═════════════╪════════════╪════════════╪═══════════════╪═══╪═════════╪══════╪═══════════╪═════════╡\n",
              "│ 7.0         ┆ -73.981685 ┆ 40.768332  ┆ -73.982392    ┆ … ┆ 1       ┆ 14   ┆ true      ┆ false   │\n",
              "│ 9.7         ┆ -73.987338 ┆ 40.768608  ┆ -73.993192    ┆ … ┆ 4       ┆ 22   ┆ false     ┆ false   │\n",
              "│ 15.0        ┆ -73.97152  ┆ 40.762457  ┆ -74.003205    ┆ … ┆ 7       ┆ 0    ┆ true      ┆ true    │\n",
              "│ 6.5         ┆ -73.990883 ┆ 40.755581  ┆ -73.982796    ┆ … ┆ 2       ┆ 9    ┆ true      ┆ false   │\n",
              "│ 8.9         ┆ -73.977457 ┆ 40.774035  ┆ -73.968257    ┆ … ┆ 5       ┆ 15   ┆ false     ┆ false   │\n",
              "└─────────────┴────────────┴────────────┴───────────────┴───┴─────────┴──────┴───────────┴─────────┘"
            ],
            "text/html": [
              "<div><style>\n",
              ".dataframe > thead > tr > th,\n",
              ".dataframe > tbody > tr > td {\n",
              "  text-align: right;\n",
              "}\n",
              "</style>\n",
              "<small>shape: (5, 13)</small><table border=\"1\" class=\"dataframe\"><thead><tr><th>fare_amount</th><th>pickup_longitude</th><th>pickup_latitude</th><th>dropoff_longitude</th><th>dropoff_latitude</th><th>passenger_count</th><th>travel_time</th><th>year</th><th>month</th><th>weekday</th><th>hour</th><th>after2012</th><th>weekend</th></tr><tr><td>f64</td><td>f64</td><td>f64</td><td>f64</td><td>f64</td><td>i64</td><td>f64</td><td>i32</td><td>u32</td><td>u32</td><td>u32</td><td>bool</td><td>bool</td></tr></thead><tbody><tr><td>7.0</td><td>-73.981685</td><td>40.768332</td><td>-73.982392</td><td>40.778992</td><td>1</td><td>36.1875</td><td>2014</td><td>6</td><td>1</td><td>14</td><td>true</td><td>false</td></tr><tr><td>9.7</td><td>-73.987338</td><td>40.768608</td><td>-73.993192</td><td>40.73648</td><td>2</td><td>223.75</td><td>2011</td><td>3</td><td>4</td><td>22</td><td>false</td><td>false</td></tr><tr><td>15.0</td><td>-73.97152</td><td>40.762457</td><td>-74.003205</td><td>40.71805</td><td>1</td><td>216.125</td><td>2014</td><td>2</td><td>7</td><td>0</td><td>true</td><td>true</td></tr><tr><td>6.5</td><td>-73.990883</td><td>40.755581</td><td>-73.982796</td><td>40.752808</td><td>3</td><td>56.1875</td><td>2015</td><td>4</td><td>2</td><td>9</td><td>true</td><td>false</td></tr><tr><td>8.9</td><td>-73.977457</td><td>40.774035</td><td>-73.968257</td><td>40.80444</td><td>1</td><td>176.75</td><td>2009</td><td>7</td><td>5</td><td>15</td><td>false</td><td>false</td></tr></tbody></table></div>"
            ]
          },
          "metadata": {},
          "execution_count": 18
        }
      ],
      "source": [
        "train_df.head()"
      ]
    },
    {
      "cell_type": "markdown",
      "source": [
        "All models are retrieved from the filesystem if found, together with their train histories and fit data policy. If not, they are trained from scratch from the given data."
      ],
      "metadata": {
        "id": "CEH6v8ULY-dF"
      }
    },
    {
      "cell_type": "code",
      "source": [
        "def get_model(model_path: str,\n",
        "              train_data: pl.DataFrame,\n",
        "              data_policy: taximodels.DataPolicy,\n",
        "              model_factory: Callable[[taximodels.DataPolicy], keras.Model]\n",
        "              ) -> Tuple[bool, keras.Model, taximodels.DataPolicy]:\n",
        "    \"\"\"Retrieve model either by loading it or creating a new one.\n",
        "\n",
        "    The given policy is fit on the data if not loaded from file.\n",
        "\n",
        "    Return a tuple in the form ``(model_was_found, model, data_policy)``.\n",
        "    \"\"\"\n",
        "    policy_path = os.path.join(model_path, 'data_policy.json')\n",
        "    model_exists = os.path.exists(model_path)\n",
        "    policy_exists = os.path.exists(policy_path)\n",
        "\n",
        "    # If model exists load it\n",
        "    if model_exists:\n",
        "        model = tf.keras.models.load_model(model_path)\n",
        "    # Otherwise create the model\n",
        "    else:\n",
        "        model = model_factory(data_policy)\n",
        "\n",
        "    # If the policy exists load it\n",
        "    if policy_exists:\n",
        "        data_policy = taximodels.DataPolicy.from_file(policy_path)\n",
        "    else:\n",
        "        data_policy.fit(train_df)\n",
        "\n",
        "    return model_exists, model, data_policy\n",
        "\n",
        "\n",
        "def save_model(model_path: str, model: keras.Model,\n",
        "               data_policy: taximodels.DataPolicy):\n",
        "    \"\"\"Save model with its policy.\"\"\"\n",
        "    policy_path = os.path.join(model_path, 'data_policy.json')\n",
        "\n",
        "    model.save(model_path)\n",
        "    data_policy.to_file(policy_path)\n",
        "\n",
        "\n",
        "def load_history(history_path: str) -> dict:\n",
        "    \"\"\"Load history from file if found, return an empty dict otherwise.\"\"\"\n",
        "    if not os.path.exists(history_path):\n",
        "        return {}\n",
        "\n",
        "    with open(history_path, 'rb') as file:\n",
        "        return pickle.load(file)\n",
        "\n",
        "\n",
        "def save_history(history_path: str, history_dict: dict):\n",
        "    \"\"\"Save history to file.\n",
        "\n",
        "    This expects the history dictionary, not the actual History callback\n",
        "    objects.\n",
        "    \"\"\"\n",
        "    with open(history_path, 'wb') as file:\n",
        "        pickle.dump(history_dict, file)"
      ],
      "metadata": {
        "id": "yyJgv7Aod9Vj"
      },
      "execution_count": null,
      "outputs": []
    },
    {
      "cell_type": "markdown",
      "source": [
        "## Linear baseline"
      ],
      "metadata": {
        "id": "u4UrqbGw0S_d"
      }
    },
    {
      "cell_type": "markdown",
      "source": [
        "A linear baseline is produced and inspected."
      ],
      "metadata": {
        "id": "FsiBNL2scIAA"
      }
    },
    {
      "cell_type": "code",
      "source": [
        "def baseline_factory(data_policy: taximodels.DataPolicy) -> keras.Model:\n",
        "    \"\"\"Build and compile a baseline model (linear).\n",
        "\n",
        "    Policy is only used to retrieve the input size. It is not necessary for it\n",
        "    to be fit.\n",
        "    \"\"\"\n",
        "    model = taximodels.get_cone_mlp(\n",
        "            len(data_policy.to_input), 1, 2048, 0, name='Linear')\n",
        "    model.compile(optimizer=optimizers.Adam(), loss='mse')\n",
        "\n",
        "    return model"
      ],
      "metadata": {
        "id": "5d-Sg8Ur0S_e"
      },
      "execution_count": null,
      "outputs": []
    },
    {
      "cell_type": "code",
      "source": [
        "# Craft a data policy for the linear baseline model, with reduced set of\n",
        "# features\n",
        "BASELINE_TO_STD = 'fare_amount',\n",
        "BASELINE_TO_NORM = ('pickup_longitude', 'pickup_latitude',\n",
        "                    'dropoff_longitude', 'dropoff_latitude', 'passenger_count',\n",
        "                    'year', 'month', 'weekday', 'hour')\n",
        "\n",
        "BASELINE_TO_INPUT = ('pickup_longitude', 'pickup_latitude',\n",
        "                     'dropoff_longitude', 'dropoff_latitude',\n",
        "                     'passenger_count', 'year', 'month', 'weekday',\n",
        "                     'hour')\n",
        "\n",
        "BASELINE_DATA_POLICY = taximodels.DataPolicy(\n",
        "    BASELINE_TO_STD, BASELINE_TO_NORM,\n",
        "    BASELINE_TO_INPUT, taximodels.MLP_TO_OUTPUT)\n",
        "\n",
        "linear_history_path = 'drive/MyDrive/taxifare/linear_history.pkl'\n",
        "\n",
        "linear_model_exists, linear_model, linear_policy = get_model(\n",
        "    baseline_model_path,\n",
        "    train_df,\n",
        "    BASELINE_DATA_POLICY,\n",
        "    baseline_factory\n",
        ")\n",
        "\n",
        "print('Linear model loaded from file?', linear_model_exists)"
      ],
      "metadata": {
        "colab": {
          "base_uri": "https://localhost:8080/"
        },
        "outputId": "a7623635-a748-4047-ff4c-0741e02d26a0",
        "id": "HtEN9OUS0S_g"
      },
      "execution_count": null,
      "outputs": [
        {
          "output_type": "stream",
          "name": "stdout",
          "text": [
            "Linear model loaded from file? False\n"
          ]
        }
      ]
    },
    {
      "cell_type": "code",
      "execution_count": null,
      "metadata": {
        "colab": {
          "base_uri": "https://localhost:8080/"
        },
        "outputId": "6c07b4e1-071e-4c52-e927-f6f7ee01b504",
        "id": "HD5aOjzT0S_i"
      },
      "outputs": [
        {
          "output_type": "stream",
          "name": "stdout",
          "text": [
            "Model: \"Linear\"\n",
            "_________________________________________________________________\n",
            " Layer (type)                Output Shape              Param #   \n",
            "=================================================================\n",
            " dense (Dense)               (None, 1)                 10        \n",
            "                                                                 \n",
            "=================================================================\n",
            "Total params: 10\n",
            "Trainable params: 10\n",
            "Non-trainable params: 0\n",
            "_________________________________________________________________\n"
          ]
        }
      ],
      "source": [
        "linear_model.summary()"
      ]
    },
    {
      "cell_type": "code",
      "execution_count": null,
      "metadata": {
        "id": "6jL6zsD60S_j",
        "colab": {
          "base_uri": "https://localhost:8080/"
        },
        "outputId": "57089888-41ed-47a9-bf30-e45358a6bcd4"
      },
      "outputs": [
        {
          "output_type": "stream",
          "name": "stdout",
          "text": [
            "Epoch 1/100\n",
            "20849/20849 [==============================] - 106s 5ms/step - loss: 0.6780 - val_loss: 0.6185\n",
            "Epoch 2/100\n",
            "20849/20849 [==============================] - 99s 5ms/step - loss: 0.6188 - val_loss: 0.6183\n",
            "Epoch 3/100\n",
            "20849/20849 [==============================] - 101s 5ms/step - loss: 0.6187 - val_loss: 0.6183\n",
            "Epoch 4/100\n",
            "20849/20849 [==============================] - 98s 5ms/step - loss: 0.6187 - val_loss: 0.6183\n",
            "Epoch 5/100\n",
            "20849/20849 [==============================] - 104s 5ms/step - loss: 0.6187 - val_loss: 0.6183\n",
            "Epoch 6/100\n",
            "20849/20849 [==============================] - 101s 5ms/step - loss: 0.6187 - val_loss: 0.6183\n"
          ]
        }
      ],
      "source": [
        "valid_x, valid_y = linear_policy.split_transform(valid_df)\n",
        "batch_size = 2048\n",
        "train_len = len(train_df)\n",
        "samples_per_epoch = len(train_df)\n",
        "\n",
        "linear_history = load_history(linear_history_path)\n",
        "\n",
        "if not linear_model_exists:\n",
        "    history = linear_model.fit(\n",
        "        taximodels.iterate_df(train_df, batch_size=batch_size,\n",
        "                              data_policy=linear_policy),\n",
        "        callbacks=[keras.callbacks.EarlyStopping(patience=2,\n",
        "                                                restore_best_weights=True)],\n",
        "        validation_data=(valid_x.to_numpy(), valid_y.to_numpy()),\n",
        "        steps_per_epoch=samples_per_epoch // batch_size,\n",
        "        batch_size=batch_size, epochs=100)\n",
        "\n",
        "    linear_history = history.history"
      ]
    },
    {
      "cell_type": "code",
      "source": [
        "save_model(baseline_model_path, linear_model, linear_policy)\n",
        "save_history(linear_history_path, linear_history)"
      ],
      "metadata": {
        "id": "_tXWxRA40S_j"
      },
      "execution_count": null,
      "outputs": []
    },
    {
      "cell_type": "code",
      "source": [
        "for key, values in linear_history.items():\n",
        "    plt.plot(values)\n",
        "\n",
        "plt.show()"
      ],
      "metadata": {
        "colab": {
          "base_uri": "https://localhost:8080/",
          "height": 599
        },
        "outputId": "6f269b98-3f8c-42e6-e7b4-a82dbe97faa0",
        "id": "f9XF6L4V0S_k"
      },
      "execution_count": null,
      "outputs": [
        {
          "output_type": "display_data",
          "data": {
            "text/plain": [
              "<Figure size 1500x700 with 1 Axes>"
            ],
            "image/png": "[encoded data removed]"
          },
          "metadata": {}
        }
      ]
    },
    {
      "cell_type": "markdown",
      "source": [
        "### Evaluation"
      ],
      "metadata": {
        "id": "IXnc2jca0S_l"
      }
    },
    {
      "cell_type": "markdown",
      "source": [
        "Evaluation is carried out on the validation set in order to compare the model with the more complex multilayer perceptrons."
      ],
      "metadata": {
        "id": "5VY0fFggdADT"
      }
    },
    {
      "cell_type": "code",
      "source": [
        "linear_model_eval = taximodels.build_evaluation_nn(linear_model,\n",
        "                                                   linear_policy)"
      ],
      "metadata": {
        "id": "4DMnFPz90S_m"
      },
      "execution_count": null,
      "outputs": []
    },
    {
      "cell_type": "code",
      "source": [
        "# Do not use the valid_y that comes from the policy split, as the label would\n",
        "# get standardized. Either build an evaluation policy where the label is not\n",
        "# standardized or (as done here) use a copy of the original label column\n",
        "linear_pred = linear_model_eval.predict(valid_x.to_numpy(),\n",
        "                                           batch_size=2 ** 16)\n",
        "print('Linear validation RMSE:',\n",
        "      taximodels.rmse(linear_pred.squeeze(),\n",
        "                      valid_df['fare_amount'].to_numpy()))\n",
        "print('Dummy mean constant RMSE:',\n",
        "      taximodels.rmse(\n",
        "          (tf.ones([len(valid_df['fare_amount'])])\n",
        "           * linear_policy.mean_dataframe['fare_amount']).numpy(),\n",
        "          valid_df['fare_amount'].to_numpy()))"
      ],
      "metadata": {
        "colab": {
          "base_uri": "https://localhost:8080/"
        },
        "outputId": "d11bcfef-72fa-4181-9a6a-45d23d3bd0e2",
        "id": "4_vh77o00S_m"
      },
      "execution_count": null,
      "outputs": [
        {
          "output_type": "stream",
          "name": "stdout",
          "text": [
            "82/82 [==============================] - 0s 2ms/step\n",
            "Linear validation RMSE: 7.041716775164236\n",
            "Dummy mean constant RMSE: 8.939563073120507\n"
          ]
        }
      ]
    },
    {
      "cell_type": "markdown",
      "source": [
        "This simple linear model is still better than predicting the constant mean of the train set. The improvement is not majestic as the set of features are using is not necessarily linear-friendly.\n",
        "\n",
        "In fact, the linear correlation between of some of these features is extremely low, in particular cyclical features."
      ],
      "metadata": {
        "id": "VIqUn0aFgTk1"
      }
    },
    {
      "cell_type": "code",
      "source": [
        "plt.xticks(rotation=90)\n",
        "plt.bar(linear_policy.to_input, linear_model.weights[0].numpy().squeeze())\n",
        "plt.show()"
      ],
      "metadata": {
        "colab": {
          "base_uri": "https://localhost:8080/",
          "height": 708
        },
        "id": "OaHg0kj1hUtt",
        "outputId": "bcb5fed2-7308-4b28-9d79-8d865068403a"
      },
      "execution_count": null,
      "outputs": [
        {
          "output_type": "display_data",
          "data": {
            "text/plain": [
              "<Figure size 1500x700 with 1 Axes>"
            ],
            "image/png": "[encoded data removed]"
          },
          "metadata": {}
        }
      ]
    },
    {
      "cell_type": "markdown",
      "source": [
        "The model reflects the correlation of the features. As expected, `year` and `after2012` reflect the effect of inflation."
      ],
      "metadata": {
        "id": "Z2ccbf7UqXmB"
      }
    },
    {
      "cell_type": "markdown",
      "source": [
        "## Outsiders model"
      ],
      "metadata": {
        "id": "rWXcWhtgRoDJ"
      }
    },
    {
      "cell_type": "markdown",
      "source": [
        "A more complex non-linear model is represented by a pair of multilayer perceptrons:\n",
        "\n",
        "* Outsiders model\n",
        "* Urban model\n",
        "\n",
        "These two models act in a selective way.\n",
        "\n",
        "The so called *outsiders* model has a similar definition to the linear one, just with a few extra hidden layers and ReLU non-linearities. Some regularization is added through weight decay. It is trained on the entire dataset, but at prediction time (on the kaggle test set) it is only used for suburban points, i.e. that are not in the New York City urban area.\n",
        "\n",
        "Even though it is used to predict such points it is not trained on them, mostly because attempts in doing so resulted in very poor performance, supposedly due to the sparsity of such points in the original data."
      ],
      "metadata": {
        "id": "lBXcrvgAvGgH"
      }
    },
    {
      "cell_type": "code",
      "source": [
        "def mlp_outsiders_factory(data_policy: taximodels.DataPolicy) -> keras.Model:\n",
        "    \"\"\"Build and compile an outsiders model (MLP).\n",
        "\n",
        "    Policy is only used to retrieve the input size. It is not necessary for it\n",
        "    to be fit.\n",
        "    \"\"\"\n",
        "    model = taximodels.get_cone_mlp(\n",
        "            len(data_policy.to_input), 1, 2048, 5, name='OutsidersMLP')\n",
        "    model.compile(optimizer=optimizers.Adam(weight_decay=1e-3), loss='mse')\n",
        "\n",
        "    return model"
      ],
      "metadata": {
        "id": "LhoHbNnNps7i"
      },
      "execution_count": null,
      "outputs": []
    },
    {
      "cell_type": "code",
      "source": [
        "outsiders_history_path = 'drive/MyDrive/taxifare/outsiders_history.pkl'\n",
        "\n",
        "outsiders_model_exists, outsiders_model, outsiders_policy = get_model(\n",
        "    outsiders_model_path,\n",
        "    train_df,\n",
        "    taximodels.MLP_DATA_POLICY,\n",
        "    mlp_outsiders_factory\n",
        ")\n",
        "\n",
        "print('Outsiders model loaded from file?', outsiders_model_exists)"
      ],
      "metadata": {
        "id": "iSFlcbN-0Fdl",
        "colab": {
          "base_uri": "https://localhost:8080/"
        },
        "outputId": "ed331a4d-dd23-46bd-e8c3-8b2699a523a7"
      },
      "execution_count": null,
      "outputs": [
        {
          "output_type": "stream",
          "name": "stdout",
          "text": [
            "Outsiders model loaded from file? True\n"
          ]
        }
      ]
    },
    {
      "cell_type": "code",
      "execution_count": null,
      "metadata": {
        "id": "56FPR-zJIYfJ",
        "colab": {
          "base_uri": "https://localhost:8080/"
        },
        "outputId": "11507018-ebf5-4097-fccd-b530deb42e0f"
      },
      "outputs": [
        {
          "output_type": "stream",
          "name": "stdout",
          "text": [
            "Model: \"OutsidersMLP\"\n",
            "_________________________________________________________________\n",
            " Layer (type)                Output Shape              Param #   \n",
            "=================================================================\n",
            " dense (Dense)               (None, 2048)              24576     \n",
            "                                                                 \n",
            " dense_1 (Dense)             (None, 1024)              2098176   \n",
            "                                                                 \n",
            " dense_2 (Dense)             (None, 512)               524800    \n",
            "                                                                 \n",
            " dense_3 (Dense)             (None, 256)               131328    \n",
            "                                                                 \n",
            " dense_4 (Dense)             (None, 128)               32896     \n",
            "                                                                 \n",
            " dense_5 (Dense)             (None, 1)                 129       \n",
            "                                                                 \n",
            "=================================================================\n",
            "Total params: 2,811,905\n",
            "Trainable params: 2,811,905\n",
            "Non-trainable params: 0\n",
            "_________________________________________________________________\n"
          ]
        }
      ],
      "source": [
        "outsiders_model.summary()"
      ]
    },
    {
      "cell_type": "code",
      "execution_count": null,
      "metadata": {
        "id": "SL4breZHIfGj"
      },
      "outputs": [],
      "source": [
        "valid_x, valid_y = outsiders_policy.split_transform(valid_df)\n",
        "batch_size = 2048\n",
        "train_len = len(train_df)\n",
        "samples_per_epoch = len(train_df)\n",
        "\n",
        "outsiders_history = load_history(outsiders_history_path)\n",
        "\n",
        "if not outsiders_model_exists:\n",
        "    history = outsiders_model.fit(\n",
        "        taximodels.iterate_df(train_df, batch_size=batch_size,\n",
        "                              data_policy=outsiders_policy),\n",
        "        callbacks=[keras.callbacks.EarlyStopping(patience=2,\n",
        "                                                restore_best_weights=True)],\n",
        "        validation_data=(valid_x.to_numpy(), valid_y.to_numpy()),\n",
        "        steps_per_epoch=samples_per_epoch // batch_size,\n",
        "        batch_size=batch_size, epochs=100)\n",
        "\n",
        "    outsiders_history = history.history"
      ]
    },
    {
      "cell_type": "code",
      "source": [
        "save_model(outsiders_model_path, outsiders_model, outsiders_policy)\n",
        "save_history(outsiders_history_path, outsiders_history)"
      ],
      "metadata": {
        "id": "wjWIuIh43nn7",
        "colab": {
          "base_uri": "https://localhost:8080/"
        },
        "outputId": "b538cdca-5544-4b43-d4ea-2141ed24197e"
      },
      "execution_count": null,
      "outputs": [
        {
          "output_type": "stream",
          "name": "stderr",
          "text": [
            "WARNING:absl:Found untraced functions such as _update_step_xla while saving (showing 1 of 1). These functions will not be directly callable after loading.\n"
          ]
        }
      ]
    },
    {
      "cell_type": "code",
      "source": [
        "for key, values in outsiders_history.items():\n",
        "    plt.plot(values)\n",
        "\n",
        "plt.show()"
      ],
      "metadata": {
        "colab": {
          "base_uri": "https://localhost:8080/",
          "height": 599
        },
        "id": "mM4aFFsh5UM5",
        "outputId": "89d3812e-81b2-422a-f8c7-17980e57262f"
      },
      "execution_count": null,
      "outputs": [
        {
          "output_type": "display_data",
          "data": {
            "text/plain": [
              "<Figure size 1500x700 with 1 Axes>"
            ],
            "image/png": "[encoded data removed]"
          },
          "metadata": {}
        }
      ]
    },
    {
      "cell_type": "markdown",
      "source": [
        "### Evaluation"
      ],
      "metadata": {
        "id": "VttLOYmW6R72"
      }
    },
    {
      "cell_type": "markdown",
      "source": [
        "The outisders model is evaluated on the test set to compare it to the performance on the kaggle test set."
      ],
      "metadata": {
        "id": "jzAX3AYYyPvl"
      }
    },
    {
      "cell_type": "code",
      "source": [
        "outsiders_model_eval = taximodels.build_evaluation_nn(outsiders_model,\n",
        "                                                      outsiders_policy)"
      ],
      "metadata": {
        "id": "Pd8U7a1Z5Y2T"
      },
      "execution_count": null,
      "outputs": []
    },
    {
      "cell_type": "code",
      "source": [
        "# Do not use the test_y that comes from the policy split, as the label would\n",
        "# get standardized. Either build an evaluation policy where the label is not\n",
        "# standardized or (as done here) use a copy of the original label column\n",
        "test_x, _ = outsiders_policy.split_transform(test_df)\n",
        "outsiders_pred = outsiders_model_eval.predict(test_x.to_numpy(),\n",
        "                                              batch_size=2 ** 16)\n",
        "print('Outsiders test RMSE:',\n",
        "      taximodels.rmse(outsiders_pred.squeeze(),\n",
        "                      test_df['fare_amount'].to_numpy()))"
      ],
      "metadata": {
        "colab": {
          "base_uri": "https://localhost:8080/"
        },
        "id": "p2T2lvbr6PzL",
        "outputId": "bdb62589-6818-4b7e-9c51-0b3bd1da7437"
      },
      "execution_count": null,
      "outputs": [
        {
          "output_type": "stream",
          "name": "stdout",
          "text": [
            "82/82 [==============================] - 8s 95ms/step\n",
            "Outsiders test RMSE: 3.1422897156894036\n"
          ]
        }
      ]
    },
    {
      "cell_type": "markdown",
      "source": [
        "## Urban model"
      ],
      "metadata": {
        "id": "_fVWvmHa4spc"
      }
    },
    {
      "cell_type": "markdown",
      "source": [
        "The so called *urban* model has access to extra features which are specific to the New York City area.\n",
        "\n",
        "At prediction time it is used to predict points in the New York City urban area."
      ],
      "metadata": {
        "id": "AzSYhN_fyv1_"
      }
    },
    {
      "cell_type": "code",
      "source": [
        "def mlp_urban_factory(data_policy: taximodels.DataPolicy) -> keras.Model:\n",
        "    \"\"\"Build and compile an urban model (MLP).\n",
        "\n",
        "    Policy is only used to retrieve the input size. It is not necessary for it\n",
        "    to be fit.\n",
        "    \"\"\"\n",
        "    model = taximodels.get_cone_mlp(\n",
        "            len(data_policy.to_input), 1, 2048, 5, name='UrbanMLP')\n",
        "    model.compile(optimizer=optimizers.Adam(weight_decay=1e-3), loss='mse')\n",
        "\n",
        "    return model"
      ],
      "metadata": {
        "id": "hMk0wR3B81O_"
      },
      "execution_count": null,
      "outputs": []
    },
    {
      "cell_type": "code",
      "source": [
        "urban_history_path = 'drive/MyDrive/taxifare/urban_history.pkl'\n",
        "\n",
        "urban_model_exists, urban_model, urban_policy = get_model(\n",
        "    urban_model_path,\n",
        "    train_df,\n",
        "    taximodels.MLP_URBAN_DATA_POLICY,\n",
        "    mlp_urban_factory\n",
        ")\n",
        "\n",
        "print('Urban model loaded from file?', urban_model_exists)"
      ],
      "metadata": {
        "colab": {
          "base_uri": "https://localhost:8080/"
        },
        "id": "K84hTjyd81PC",
        "outputId": "40399069-84cd-487c-d0bf-891b228a7068"
      },
      "execution_count": null,
      "outputs": [
        {
          "output_type": "stream",
          "name": "stdout",
          "text": [
            "Urban model loaded from file? True\n"
          ]
        }
      ]
    },
    {
      "cell_type": "code",
      "execution_count": null,
      "metadata": {
        "colab": {
          "base_uri": "https://localhost:8080/"
        },
        "id": "9EGu0Ggh81PD",
        "outputId": "50884c4e-c824-4fe6-ae90-4b789ece6270"
      },
      "outputs": [
        {
          "output_type": "stream",
          "name": "stdout",
          "text": [
            "Model: \"UrbanMLP\"\n",
            "_________________________________________________________________\n",
            " Layer (type)                Output Shape              Param #   \n",
            "=================================================================\n",
            " dense_6 (Dense)             (None, 2048)              26624     \n",
            "                                                                 \n",
            " dense_7 (Dense)             (None, 1024)              2098176   \n",
            "                                                                 \n",
            " dense_8 (Dense)             (None, 512)               524800    \n",
            "                                                                 \n",
            " dense_9 (Dense)             (None, 256)               131328    \n",
            "                                                                 \n",
            " dense_10 (Dense)            (None, 128)               32896     \n",
            "                                                                 \n",
            " dense_11 (Dense)            (None, 1)                 129       \n",
            "                                                                 \n",
            "=================================================================\n",
            "Total params: 2,813,953\n",
            "Trainable params: 2,813,953\n",
            "Non-trainable params: 0\n",
            "_________________________________________________________________\n"
          ]
        }
      ],
      "source": [
        "urban_model.summary()"
      ]
    },
    {
      "cell_type": "code",
      "execution_count": null,
      "metadata": {
        "id": "EuZ2P8W-81PE"
      },
      "outputs": [],
      "source": [
        "valid_x, valid_y = urban_policy.split_transform(valid_df)\n",
        "batch_size = 2048\n",
        "train_len = len(train_df)\n",
        "samples_per_epoch = len(train_df)\n",
        "\n",
        "urban_history = load_history(urban_history_path)\n",
        "\n",
        "if not urban_model_exists:\n",
        "    history = urban_model.fit(\n",
        "        taximodels.iterate_df(train_df, batch_size=batch_size,\n",
        "                              data_policy=urban_policy),\n",
        "        callbacks=[keras.callbacks.EarlyStopping(patience=2,\n",
        "                                                 restore_best_weights=True)],\n",
        "        validation_data=(valid_x.to_numpy(), valid_y.to_numpy()),\n",
        "        steps_per_epoch=samples_per_epoch // batch_size,\n",
        "        batch_size=batch_size, epochs=100)\n",
        "\n",
        "    urban_history = history.history"
      ]
    },
    {
      "cell_type": "code",
      "source": [
        "save_model(urban_model_path, urban_model, urban_policy)\n",
        "save_history(urban_history_path, urban_history)"
      ],
      "metadata": {
        "id": "8If36x57I9bv",
        "colab": {
          "base_uri": "https://localhost:8080/"
        },
        "outputId": "243eac70-ecd4-4456-dafc-7fb4777e1187"
      },
      "execution_count": null,
      "outputs": [
        {
          "output_type": "stream",
          "name": "stderr",
          "text": [
            "WARNING:absl:Found untraced functions such as _update_step_xla while saving (showing 1 of 1). These functions will not be directly callable after loading.\n"
          ]
        }
      ]
    },
    {
      "cell_type": "code",
      "source": [
        "for key, values in urban_history.items():\n",
        "    plt.plot(values)\n",
        "\n",
        "plt.show()"
      ],
      "metadata": {
        "colab": {
          "base_uri": "https://localhost:8080/",
          "height": 599
        },
        "outputId": "c317bb49-cbb7-4161-ca67-6b027e0adc0f",
        "id": "LIFCCOjaI9bx"
      },
      "execution_count": null,
      "outputs": [
        {
          "output_type": "display_data",
          "data": {
            "text/plain": [
              "<Figure size 1500x700 with 1 Axes>"
            ],
            "image/png": "[encoded data removed]"
          },
          "metadata": {}
        }
      ]
    },
    {
      "cell_type": "markdown",
      "source": [
        "### Evaluation"
      ],
      "metadata": {
        "id": "z6RN-j9cI9bz"
      }
    },
    {
      "cell_type": "markdown",
      "source": [
        "The urban model is evaluated on the test set to compare it to the performance on the kaggle test set."
      ],
      "metadata": {
        "id": "3rkC6QOp1LZa"
      }
    },
    {
      "cell_type": "code",
      "source": [
        "urban_model_eval = taximodels.build_evaluation_nn(urban_model,\n",
        "                                                  urban_policy)"
      ],
      "metadata": {
        "id": "gTLND9SXI9b1"
      },
      "execution_count": null,
      "outputs": []
    },
    {
      "cell_type": "code",
      "source": [
        "# Do not use the test_y that comes from the policy split, as the label would\n",
        "# get standardized. Either build an evaluation policy where the label is not\n",
        "# standardized or (as done here) use a copy of the original label column\n",
        "test_x, _ = urban_policy.split_transform(test_df)\n",
        "urban_pred = urban_model_eval.predict(test_x.to_numpy(),\n",
        "                                              batch_size=2 ** 16)\n",
        "print('Urban test RMSE:',\n",
        "      taximodels.rmse(urban_pred.squeeze(),\n",
        "                      test_df['fare_amount'].to_numpy()))"
      ],
      "metadata": {
        "colab": {
          "base_uri": "https://localhost:8080/"
        },
        "outputId": "1ef7cf2a-36d3-436e-87da-f9c35716d7f8",
        "id": "a_R6lcVjI9b2"
      },
      "execution_count": null,
      "outputs": [
        {
          "output_type": "stream",
          "name": "stdout",
          "text": [
            "82/82 [==============================] - 8s 96ms/step\n",
            "Urban test RMSE: 3.115026407713106\n"
          ]
        }
      ]
    },
    {
      "cell_type": "markdown",
      "metadata": {
        "id": "bG3ls_3_NEw-"
      },
      "source": [
        "## Evaluation on kaggle test set"
      ]
    },
    {
      "cell_type": "markdown",
      "source": [
        "Finally, the kaggle test set is loaded and predicted. All the necessary features have to be preprocessed a priori."
      ],
      "metadata": {
        "id": "Idm_aWvL187D"
      }
    },
    {
      "cell_type": "code",
      "execution_count": null,
      "metadata": {
        "id": "xeGeobmONJ_w",
        "colab": {
          "base_uri": "https://localhost:8080/",
          "height": 362
        },
        "outputId": "5adc65bb-c939-418b-dad7-c16262f3527f"
      },
      "outputs": [
        {
          "output_type": "execute_result",
          "data": {
            "text/plain": [
              "shape: (5, 15)\n",
              "┌───────┬────────────┬────────────┬────────────┬───┬─────────┬────────────┬────────────┬───────────┐\n",
              "│ key   ┆ pickup_lon ┆ pickup_lat ┆ dropoff_lo ┆ … ┆ weekend ┆ pickup_bor ┆ dropoff_bo ┆ travel_ti │\n",
              "│ ---   ┆ gitude     ┆ itude      ┆ ngitude    ┆   ┆ ---     ┆ ough       ┆ rough      ┆ me        │\n",
              "│ str   ┆ ---        ┆ ---        ┆ ---        ┆   ┆ bool    ┆ ---        ┆ ---        ┆ ---       │\n",
              "│       ┆ f64        ┆ f64        ┆ f64        ┆   ┆         ┆ str        ┆ str        ┆ f64       │\n",
              "╞═══════╪════════════╪════════════╪════════════╪═══╪═════════╪════════════╪════════════╪═══════════╡\n",
              "│ 2015- ┆ -73.97332  ┆ 40.763805  ┆ -73.98143  ┆ … ┆ false   ┆ Manhattan  ┆ Manhattan  ┆ 146.75    │\n",
              "│ 01-27 ┆            ┆            ┆            ┆   ┆         ┆            ┆            ┆           │\n",
              "│ 13:08 ┆            ┆            ┆            ┆   ┆         ┆            ┆            ┆           │\n",
              "│ :24.0 ┆            ┆            ┆            ┆   ┆         ┆            ┆            ┆           │\n",
              "│ 00000 ┆            ┆            ┆            ┆   ┆         ┆            ┆            ┆           │\n",
              "│ 2     ┆            ┆            ┆            ┆   ┆         ┆            ┆            ┆           │\n",
              "│ 2015- ┆ -73.986862 ┆ 40.719383  ┆ -73.998886 ┆ … ┆ false   ┆ Manhattan  ┆ Manhattan  ┆ 121.875   │\n",
              "│ 01-27 ┆            ┆            ┆            ┆   ┆         ┆            ┆            ┆           │\n",
              "│ 13:08 ┆            ┆            ┆            ┆   ┆         ┆            ┆            ┆           │\n",
              "│ :24.0 ┆            ┆            ┆            ┆   ┆         ┆            ┆            ┆           │\n",
              "│ 00000 ┆            ┆            ┆            ┆   ┆         ┆            ┆            ┆           │\n",
              "│ 3     ┆            ┆            ┆            ┆   ┆         ┆            ┆            ┆           │\n",
              "│ 2011- ┆ -73.982524 ┆ 40.75126   ┆ -73.979654 ┆ … ┆ true    ┆ Manhattan  ┆ Manhattan  ┆ 56.40625  │\n",
              "│ 10-08 ┆            ┆            ┆            ┆   ┆         ┆            ┆            ┆           │\n",
              "│ 11:53 ┆            ┆            ┆            ┆   ┆         ┆            ┆            ┆           │\n",
              "│ :44.0 ┆            ┆            ┆            ┆   ┆         ┆            ┆            ┆           │\n",
              "│ 00000 ┆            ┆            ┆            ┆   ┆         ┆            ┆            ┆           │\n",
              "│ 2     ┆            ┆            ┆            ┆   ┆         ┆            ┆            ┆           │\n",
              "│ 2012- ┆ -73.98116  ┆ 40.767807  ┆ -73.990448 ┆ … ┆ true    ┆ Manhattan  ┆ Manhattan  ┆ 128.5     │\n",
              "│ 12-01 ┆            ┆            ┆            ┆   ┆         ┆            ┆            ┆           │\n",
              "│ 21:12 ┆            ┆            ┆            ┆   ┆         ┆            ┆            ┆           │\n",
              "│ :12.0 ┆            ┆            ┆            ┆   ┆         ┆            ┆            ┆           │\n",
              "│ 00000 ┆            ┆            ┆            ┆   ┆         ┆            ┆            ┆           │\n",
              "│ 2     ┆            ┆            ┆            ┆   ┆         ┆            ┆            ┆           │\n",
              "│ 2012- ┆ -73.966046 ┆ 40.789775  ┆ -73.988565 ┆ … ┆ true    ┆ Manhattan  ┆ Manhattan  ┆ 267.0     │\n",
              "│ 12-01 ┆            ┆            ┆            ┆   ┆         ┆            ┆            ┆           │\n",
              "│ 21:12 ┆            ┆            ┆            ┆   ┆         ┆            ┆            ┆           │\n",
              "│ :12.0 ┆            ┆            ┆            ┆   ┆         ┆            ┆            ┆           │\n",
              "│ 00000 ┆            ┆            ┆            ┆   ┆         ┆            ┆            ┆           │\n",
              "│ 3     ┆            ┆            ┆            ┆   ┆         ┆            ┆            ┆           │\n",
              "└───────┴────────────┴────────────┴────────────┴───┴─────────┴────────────┴────────────┴───────────┘"
            ],
            "text/html": [
              "<div><style>\n",
              ".dataframe > thead > tr > th,\n",
              ".dataframe > tbody > tr > td {\n",
              "  text-align: right;\n",
              "}\n",
              "</style>\n",
              "<small>shape: (5, 15)</small><table border=\"1\" class=\"dataframe\"><thead><tr><th>key</th><th>pickup_longitude</th><th>pickup_latitude</th><th>dropoff_longitude</th><th>dropoff_latitude</th><th>passenger_count</th><th>year</th><th>month</th><th>weekday</th><th>hour</th><th>after2012</th><th>weekend</th><th>pickup_borough</th><th>dropoff_borough</th><th>travel_time</th></tr><tr><td>str</td><td>f64</td><td>f64</td><td>f64</td><td>f64</td><td>i64</td><td>i32</td><td>u32</td><td>u32</td><td>u32</td><td>bool</td><td>bool</td><td>str</td><td>str</td><td>f64</td></tr></thead><tbody><tr><td>&quot;2015-01-27 13:…</td><td>-73.97332</td><td>40.763805</td><td>-73.98143</td><td>40.743835</td><td>1</td><td>2015</td><td>1</td><td>2</td><td>13</td><td>true</td><td>false</td><td>&quot;Manhattan&quot;</td><td>&quot;Manhattan&quot;</td><td>146.75</td></tr><tr><td>&quot;2015-01-27 13:…</td><td>-73.986862</td><td>40.719383</td><td>-73.998886</td><td>40.739201</td><td>1</td><td>2015</td><td>1</td><td>2</td><td>13</td><td>true</td><td>false</td><td>&quot;Manhattan&quot;</td><td>&quot;Manhattan&quot;</td><td>121.875</td></tr><tr><td>&quot;2011-10-08 11:…</td><td>-73.982524</td><td>40.75126</td><td>-73.979654</td><td>40.746139</td><td>1</td><td>2011</td><td>10</td><td>6</td><td>11</td><td>false</td><td>true</td><td>&quot;Manhattan&quot;</td><td>&quot;Manhattan&quot;</td><td>56.40625</td></tr><tr><td>&quot;2012-12-01 21:…</td><td>-73.98116</td><td>40.767807</td><td>-73.990448</td><td>40.751635</td><td>1</td><td>2012</td><td>12</td><td>6</td><td>21</td><td>true</td><td>true</td><td>&quot;Manhattan&quot;</td><td>&quot;Manhattan&quot;</td><td>128.5</td></tr><tr><td>&quot;2012-12-01 21:…</td><td>-73.966046</td><td>40.789775</td><td>-73.988565</td><td>40.744427</td><td>1</td><td>2012</td><td>12</td><td>6</td><td>21</td><td>true</td><td>true</td><td>&quot;Manhattan&quot;</td><td>&quot;Manhattan&quot;</td><td>267.0</td></tr></tbody></table></div>"
            ]
          },
          "metadata": {},
          "execution_count": 46
        }
      ],
      "source": [
        "kaggle_test = pl.read_parquet(kaggle_test_path)\n",
        "kaggle_test.head()"
      ]
    },
    {
      "cell_type": "markdown",
      "source": [
        "Both the *urban* and *outsiders* predict over the entire kaggle test set. Results are then composed based on the pickup/dropoff boroughs of the samples. A borough with value `None` identifies a suburban point."
      ],
      "metadata": {
        "id": "gEX5aA2v3D7q"
      }
    },
    {
      "cell_type": "code",
      "execution_count": null,
      "metadata": {
        "id": "8X0e5fjqREhc"
      },
      "outputs": [],
      "source": [
        "kaggle_test_outsiders = (\n",
        "    outsiders_policy.transform(kaggle_test, transform_output=False)\n",
        "                    .select(outsiders_policy.to_input)\n",
        "                    .to_numpy()\n",
        ")\n",
        "\n",
        "kaggle_outsiders_pred = outsiders_model_eval.predict_on_batch(\n",
        "    kaggle_test_outsiders)\n",
        "\n",
        "kaggle_test_urban = (\n",
        "    urban_policy.transform(kaggle_test, transform_output=False)\n",
        "                .select(urban_policy.to_input)\n",
        "                .to_numpy()\n",
        ")\n",
        "\n",
        "kaggle_urban_pred = urban_model_eval.predict_on_batch(kaggle_test_urban)"
      ]
    },
    {
      "cell_type": "code",
      "execution_count": null,
      "metadata": {
        "id": "-CjBofJ7SK7d"
      },
      "outputs": [],
      "source": [
        "kaggle_outsiders_pred_series = pl.Series(\n",
        "    name='fare_amount',\n",
        "    values=kaggle_outsiders_pred.squeeze())\n",
        "kaggle_urban_pred_series = pl.Series(name='fare_amount',\n",
        "                                     values=kaggle_urban_pred.squeeze())\n",
        "\n",
        "kaggle_submission = (\n",
        "    kaggle_test.with_columns(\n",
        "        pl.when((pl.col('pickup_borough') == 'None')\n",
        "                | (pl.col('dropoff_borough') == 'None'))\n",
        "      .then(kaggle_outsiders_pred_series)\n",
        "      .otherwise(kaggle_urban_pred_series))\n",
        "    .select('key', 'fare_amount')\n",
        ")"
      ]
    },
    {
      "cell_type": "code",
      "execution_count": null,
      "metadata": {
        "id": "ofoTIBhabfUz",
        "colab": {
          "base_uri": "https://localhost:8080/",
          "height": 255
        },
        "outputId": "9ded12a7-db16-4422-ec75-35620e3a4255"
      },
      "outputs": [
        {
          "output_type": "execute_result",
          "data": {
            "text/plain": [
              "shape: (5, 2)\n",
              "┌─────────────────────────────┬─────────────┐\n",
              "│ key                         ┆ fare_amount │\n",
              "│ ---                         ┆ ---         │\n",
              "│ str                         ┆ f32         │\n",
              "╞═════════════════════════════╪═════════════╡\n",
              "│ 2015-01-27 13:08:24.0000002 ┆ 10.259161   │\n",
              "│ 2015-01-27 13:08:24.0000003 ┆ 11.347184   │\n",
              "│ 2011-10-08 11:53:44.0000002 ┆ 4.48202     │\n",
              "│ 2012-12-01 21:12:12.0000002 ┆ 9.991088    │\n",
              "│ 2012-12-01 21:12:12.0000003 ┆ 16.915554   │\n",
              "└─────────────────────────────┴─────────────┘"
            ],
            "text/html": [
              "<div><style>\n",
              ".dataframe > thead > tr > th,\n",
              ".dataframe > tbody > tr > td {\n",
              "  text-align: right;\n",
              "}\n",
              "</style>\n",
              "<small>shape: (5, 2)</small><table border=\"1\" class=\"dataframe\"><thead><tr><th>key</th><th>fare_amount</th></tr><tr><td>str</td><td>f32</td></tr></thead><tbody><tr><td>&quot;2015-01-27 13:…</td><td>10.259161</td></tr><tr><td>&quot;2015-01-27 13:…</td><td>11.347184</td></tr><tr><td>&quot;2011-10-08 11:…</td><td>4.48202</td></tr><tr><td>&quot;2012-12-01 21:…</td><td>9.991088</td></tr><tr><td>&quot;2012-12-01 21:…</td><td>16.915554</td></tr></tbody></table></div>"
            ]
          },
          "metadata": {},
          "execution_count": 50
        }
      ],
      "source": [
        "kaggle_submission.write_csv(kaggle_submission_path)\n",
        "kaggle_submission.head()"
      ]
    }
  ],
  "metadata": {
    "accelerator": "GPU",
    "colab": {
      "provenance": [],
      "gpuType": "T4",
      "collapsed_sections": [
        "KBkmRXDVN1UV"
      ]
    },
    "gpuClass": "standard",
    "kernelspec": {
      "display_name": "Python 3",
      "name": "python3"
    },
    "language_info": {
      "name": "python"
    },
    "widgets": {
      "application/vnd.jupyter.widget-state+json": {
        "4f524ebc1e9b4e1796154cd875d7e66c": {
          "model_module": "@jupyter-widgets/controls",
          "model_name": "TextModel",
          "model_module_version": "1.5.0",
          "state": {
            "_dom_classes": [],
            "_model_module": "@jupyter-widgets/controls",
            "_model_module_version": "1.5.0",
            "_model_name": "TextModel",
            "_view_count": null,
            "_view_module": "@jupyter-widgets/controls",
            "_view_module_version": "1.5.0",
            "_view_name": "TextView",
            "continuous_update": true,
            "description": "Baseline model",
            "description_tooltip": null,
            "disabled": false,
            "layout": "IPY_MODEL_3cc7f71176a74d4c97bcf0fe193e7b67",
            "placeholder": "​",
            "style": "IPY_MODEL_248442ecd1d94cde87a1648f9379771b",
            "value": "drive/MyDrive/taxifare/baseline.model"
          }
        },
        "3cc7f71176a74d4c97bcf0fe193e7b67": {
          "model_module": "@jupyter-widgets/base",
          "model_name": "LayoutModel",
          "model_module_version": "1.2.0",
          "state": {
            "_model_module": "@jupyter-widgets/base",
            "_model_module_version": "1.2.0",
            "_model_name": "LayoutModel",
            "_view_count": null,
            "_view_module": "@jupyter-widgets/base",
            "_view_module_version": "1.2.0",
            "_view_name": "LayoutView",
            "align_content": null,
            "align_items": null,
            "align_self": null,
            "border": null,
            "bottom": null,
            "display": null,
            "flex": null,
            "flex_flow": null,
            "grid_area": null,
            "grid_auto_columns": null,
            "grid_auto_flow": null,
            "grid_auto_rows": null,
            "grid_column": null,
            "grid_gap": null,
            "grid_row": null,
            "grid_template_areas": null,
            "grid_template_columns": null,
            "grid_template_rows": null,
            "height": null,
            "justify_content": null,
            "justify_items": null,
            "left": null,
            "margin": null,
            "max_height": null,
            "max_width": null,
            "min_height": null,
            "min_width": null,
            "object_fit": null,
            "object_position": null,
            "order": null,
            "overflow": null,
            "overflow_x": null,
            "overflow_y": null,
            "padding": null,
            "right": null,
            "top": null,
            "visibility": null,
            "width": null
          }
        },
        "248442ecd1d94cde87a1648f9379771b": {
          "model_module": "@jupyter-widgets/controls",
          "model_name": "DescriptionStyleModel",
          "model_module_version": "1.5.0",
          "state": {
            "_model_module": "@jupyter-widgets/controls",
            "_model_module_version": "1.5.0",
            "_model_name": "DescriptionStyleModel",
            "_view_count": null,
            "_view_module": "@jupyter-widgets/base",
            "_view_module_version": "1.2.0",
            "_view_name": "StyleView",
            "description_width": ""
          }
        },
        "5ffbf58847dd4a0699c8d8a3bb94985a": {
          "model_module": "@jupyter-widgets/controls",
          "model_name": "TextModel",
          "model_module_version": "1.5.0",
          "state": {
            "_dom_classes": [],
            "_model_module": "@jupyter-widgets/controls",
            "_model_module_version": "1.5.0",
            "_model_name": "TextModel",
            "_view_count": null,
            "_view_module": "@jupyter-widgets/controls",
            "_view_module_version": "1.5.0",
            "_view_name": "TextView",
            "continuous_update": true,
            "description": "Outsiders model",
            "description_tooltip": null,
            "disabled": false,
            "layout": "IPY_MODEL_00ca3c2c02b44d989ed163c3ded29432",
            "placeholder": "​",
            "style": "IPY_MODEL_b15076e5df674d49af9d8b65d58fe539",
            "value": "drive/MyDrive/taxifare/outsiders.model"
          }
        },
        "00ca3c2c02b44d989ed163c3ded29432": {
          "model_module": "@jupyter-widgets/base",
          "model_name": "LayoutModel",
          "model_module_version": "1.2.0",
          "state": {
            "_model_module": "@jupyter-widgets/base",
            "_model_module_version": "1.2.0",
            "_model_name": "LayoutModel",
            "_view_count": null,
            "_view_module": "@jupyter-widgets/base",
            "_view_module_version": "1.2.0",
            "_view_name": "LayoutView",
            "align_content": null,
            "align_items": null,
            "align_self": null,
            "border": null,
            "bottom": null,
            "display": null,
            "flex": null,
            "flex_flow": null,
            "grid_area": null,
            "grid_auto_columns": null,
            "grid_auto_flow": null,
            "grid_auto_rows": null,
            "grid_column": null,
            "grid_gap": null,
            "grid_row": null,
            "grid_template_areas": null,
            "grid_template_columns": null,
            "grid_template_rows": null,
            "height": null,
            "justify_content": null,
            "justify_items": null,
            "left": null,
            "margin": null,
            "max_height": null,
            "max_width": null,
            "min_height": null,
            "min_width": null,
            "object_fit": null,
            "object_position": null,
            "order": null,
            "overflow": null,
            "overflow_x": null,
            "overflow_y": null,
            "padding": null,
            "right": null,
            "top": null,
            "visibility": null,
            "width": null
          }
        },
        "b15076e5df674d49af9d8b65d58fe539": {
          "model_module": "@jupyter-widgets/controls",
          "model_name": "DescriptionStyleModel",
          "model_module_version": "1.5.0",
          "state": {
            "_model_module": "@jupyter-widgets/controls",
            "_model_module_version": "1.5.0",
            "_model_name": "DescriptionStyleModel",
            "_view_count": null,
            "_view_module": "@jupyter-widgets/base",
            "_view_module_version": "1.2.0",
            "_view_name": "StyleView",
            "description_width": ""
          }
        },
        "cb385ac510d44985815b7266b426fa99": {
          "model_module": "@jupyter-widgets/controls",
          "model_name": "TextModel",
          "model_module_version": "1.5.0",
          "state": {
            "_dom_classes": [],
            "_model_module": "@jupyter-widgets/controls",
            "_model_module_version": "1.5.0",
            "_model_name": "TextModel",
            "_view_count": null,
            "_view_module": "@jupyter-widgets/controls",
            "_view_module_version": "1.5.0",
            "_view_name": "TextView",
            "continuous_update": true,
            "description": "Urban model",
            "description_tooltip": null,
            "disabled": false,
            "layout": "IPY_MODEL_ae75f14ed40e4e089eaf59d54640099c",
            "placeholder": "​",
            "style": "IPY_MODEL_88237aad00ef47d68a4a83c99390d305",
            "value": "drive/MyDrive/taxifare/urban.model"
          }
        },
        "ae75f14ed40e4e089eaf59d54640099c": {
          "model_module": "@jupyter-widgets/base",
          "model_name": "LayoutModel",
          "model_module_version": "1.2.0",
          "state": {
            "_model_module": "@jupyter-widgets/base",
            "_model_module_version": "1.2.0",
            "_model_name": "LayoutModel",
            "_view_count": null,
            "_view_module": "@jupyter-widgets/base",
            "_view_module_version": "1.2.0",
            "_view_name": "LayoutView",
            "align_content": null,
            "align_items": null,
            "align_self": null,
            "border": null,
            "bottom": null,
            "display": null,
            "flex": null,
            "flex_flow": null,
            "grid_area": null,
            "grid_auto_columns": null,
            "grid_auto_flow": null,
            "grid_auto_rows": null,
            "grid_column": null,
            "grid_gap": null,
            "grid_row": null,
            "grid_template_areas": null,
            "grid_template_columns": null,
            "grid_template_rows": null,
            "height": null,
            "justify_content": null,
            "justify_items": null,
            "left": null,
            "margin": null,
            "max_height": null,
            "max_width": null,
            "min_height": null,
            "min_width": null,
            "object_fit": null,
            "object_position": null,
            "order": null,
            "overflow": null,
            "overflow_x": null,
            "overflow_y": null,
            "padding": null,
            "right": null,
            "top": null,
            "visibility": null,
            "width": null
          }
        },
        "88237aad00ef47d68a4a83c99390d305": {
          "model_module": "@jupyter-widgets/controls",
          "model_name": "DescriptionStyleModel",
          "model_module_version": "1.5.0",
          "state": {
            "_model_module": "@jupyter-widgets/controls",
            "_model_module_version": "1.5.0",
            "_model_name": "DescriptionStyleModel",
            "_view_count": null,
            "_view_module": "@jupyter-widgets/base",
            "_view_module_version": "1.2.0",
            "_view_name": "StyleView",
            "description_width": ""
          }
        },
        "7d29b81461b245b298f4ef222780ad7e": {
          "model_module": "@jupyter-widgets/controls",
          "model_name": "TextModel",
          "model_module_version": "1.5.0",
          "state": {
            "_dom_classes": [],
            "_model_module": "@jupyter-widgets/controls",
            "_model_module_version": "1.5.0",
            "_model_name": "TextModel",
            "_view_count": null,
            "_view_module": "@jupyter-widgets/controls",
            "_view_module_version": "1.5.0",
            "_view_name": "TextView",
            "continuous_update": true,
            "description": "Train set",
            "description_tooltip": null,
            "disabled": false,
            "layout": "IPY_MODEL_dc9293ba9e314342a1441d4437431422",
            "placeholder": "​",
            "style": "IPY_MODEL_c31adee1e5a34c1093cba9c8c19242de",
            "value": "drive/MyDrive/taxifare/train.parquet"
          }
        },
        "dc9293ba9e314342a1441d4437431422": {
          "model_module": "@jupyter-widgets/base",
          "model_name": "LayoutModel",
          "model_module_version": "1.2.0",
          "state": {
            "_model_module": "@jupyter-widgets/base",
            "_model_module_version": "1.2.0",
            "_model_name": "LayoutModel",
            "_view_count": null,
            "_view_module": "@jupyter-widgets/base",
            "_view_module_version": "1.2.0",
            "_view_name": "LayoutView",
            "align_content": null,
            "align_items": null,
            "align_self": null,
            "border": null,
            "bottom": null,
            "display": null,
            "flex": null,
            "flex_flow": null,
            "grid_area": null,
            "grid_auto_columns": null,
            "grid_auto_flow": null,
            "grid_auto_rows": null,
            "grid_column": null,
            "grid_gap": null,
            "grid_row": null,
            "grid_template_areas": null,
            "grid_template_columns": null,
            "grid_template_rows": null,
            "height": null,
            "justify_content": null,
            "justify_items": null,
            "left": null,
            "margin": null,
            "max_height": null,
            "max_width": null,
            "min_height": null,
            "min_width": null,
            "object_fit": null,
            "object_position": null,
            "order": null,
            "overflow": null,
            "overflow_x": null,
            "overflow_y": null,
            "padding": null,
            "right": null,
            "top": null,
            "visibility": null,
            "width": null
          }
        },
        "c31adee1e5a34c1093cba9c8c19242de": {
          "model_module": "@jupyter-widgets/controls",
          "model_name": "DescriptionStyleModel",
          "model_module_version": "1.5.0",
          "state": {
            "_model_module": "@jupyter-widgets/controls",
            "_model_module_version": "1.5.0",
            "_model_name": "DescriptionStyleModel",
            "_view_count": null,
            "_view_module": "@jupyter-widgets/base",
            "_view_module_version": "1.2.0",
            "_view_name": "StyleView",
            "description_width": ""
          }
        },
        "99e63b43b37d465aa6b48c9fe1222bcb": {
          "model_module": "@jupyter-widgets/controls",
          "model_name": "TextModel",
          "model_module_version": "1.5.0",
          "state": {
            "_dom_classes": [],
            "_model_module": "@jupyter-widgets/controls",
            "_model_module_version": "1.5.0",
            "_model_name": "TextModel",
            "_view_count": null,
            "_view_module": "@jupyter-widgets/controls",
            "_view_module_version": "1.5.0",
            "_view_name": "TextView",
            "continuous_update": true,
            "description": "Validation set",
            "description_tooltip": null,
            "disabled": false,
            "layout": "IPY_MODEL_1fbf9361333845adb4eefd8890a7eae9",
            "placeholder": "​",
            "style": "IPY_MODEL_76371c0230ff427d8e6d451189d39844",
            "value": "drive/MyDrive/taxifare/valid.parquet"
          }
        },
        "1fbf9361333845adb4eefd8890a7eae9": {
          "model_module": "@jupyter-widgets/base",
          "model_name": "LayoutModel",
          "model_module_version": "1.2.0",
          "state": {
            "_model_module": "@jupyter-widgets/base",
            "_model_module_version": "1.2.0",
            "_model_name": "LayoutModel",
            "_view_count": null,
            "_view_module": "@jupyter-widgets/base",
            "_view_module_version": "1.2.0",
            "_view_name": "LayoutView",
            "align_content": null,
            "align_items": null,
            "align_self": null,
            "border": null,
            "bottom": null,
            "display": null,
            "flex": null,
            "flex_flow": null,
            "grid_area": null,
            "grid_auto_columns": null,
            "grid_auto_flow": null,
            "grid_auto_rows": null,
            "grid_column": null,
            "grid_gap": null,
            "grid_row": null,
            "grid_template_areas": null,
            "grid_template_columns": null,
            "grid_template_rows": null,
            "height": null,
            "justify_content": null,
            "justify_items": null,
            "left": null,
            "margin": null,
            "max_height": null,
            "max_width": null,
            "min_height": null,
            "min_width": null,
            "object_fit": null,
            "object_position": null,
            "order": null,
            "overflow": null,
            "overflow_x": null,
            "overflow_y": null,
            "padding": null,
            "right": null,
            "top": null,
            "visibility": null,
            "width": null
          }
        },
        "76371c0230ff427d8e6d451189d39844": {
          "model_module": "@jupyter-widgets/controls",
          "model_name": "DescriptionStyleModel",
          "model_module_version": "1.5.0",
          "state": {
            "_model_module": "@jupyter-widgets/controls",
            "_model_module_version": "1.5.0",
            "_model_name": "DescriptionStyleModel",
            "_view_count": null,
            "_view_module": "@jupyter-widgets/base",
            "_view_module_version": "1.2.0",
            "_view_name": "StyleView",
            "description_width": ""
          }
        },
        "7e3b4e3a276b48b591af338ca79af1c9": {
          "model_module": "@jupyter-widgets/controls",
          "model_name": "TextModel",
          "model_module_version": "1.5.0",
          "state": {
            "_dom_classes": [],
            "_model_module": "@jupyter-widgets/controls",
            "_model_module_version": "1.5.0",
            "_model_name": "TextModel",
            "_view_count": null,
            "_view_module": "@jupyter-widgets/controls",
            "_view_module_version": "1.5.0",
            "_view_name": "TextView",
            "continuous_update": true,
            "description": "Test set",
            "description_tooltip": null,
            "disabled": false,
            "layout": "IPY_MODEL_3b4fd55cc0e04809bb1c1df413638216",
            "placeholder": "​",
            "style": "IPY_MODEL_e73414d19e6b4fddbc67ee638226dffa",
            "value": "drive/MyDrive/taxifare/test.parquet"
          }
        },
        "3b4fd55cc0e04809bb1c1df413638216": {
          "model_module": "@jupyter-widgets/base",
          "model_name": "LayoutModel",
          "model_module_version": "1.2.0",
          "state": {
            "_model_module": "@jupyter-widgets/base",
            "_model_module_version": "1.2.0",
            "_model_name": "LayoutModel",
            "_view_count": null,
            "_view_module": "@jupyter-widgets/base",
            "_view_module_version": "1.2.0",
            "_view_name": "LayoutView",
            "align_content": null,
            "align_items": null,
            "align_self": null,
            "border": null,
            "bottom": null,
            "display": null,
            "flex": null,
            "flex_flow": null,
            "grid_area": null,
            "grid_auto_columns": null,
            "grid_auto_flow": null,
            "grid_auto_rows": null,
            "grid_column": null,
            "grid_gap": null,
            "grid_row": null,
            "grid_template_areas": null,
            "grid_template_columns": null,
            "grid_template_rows": null,
            "height": null,
            "justify_content": null,
            "justify_items": null,
            "left": null,
            "margin": null,
            "max_height": null,
            "max_width": null,
            "min_height": null,
            "min_width": null,
            "object_fit": null,
            "object_position": null,
            "order": null,
            "overflow": null,
            "overflow_x": null,
            "overflow_y": null,
            "padding": null,
            "right": null,
            "top": null,
            "visibility": null,
            "width": null
          }
        },
        "e73414d19e6b4fddbc67ee638226dffa": {
          "model_module": "@jupyter-widgets/controls",
          "model_name": "DescriptionStyleModel",
          "model_module_version": "1.5.0",
          "state": {
            "_model_module": "@jupyter-widgets/controls",
            "_model_module_version": "1.5.0",
            "_model_name": "DescriptionStyleModel",
            "_view_count": null,
            "_view_module": "@jupyter-widgets/base",
            "_view_module_version": "1.2.0",
            "_view_name": "StyleView",
            "description_width": ""
          }
        },
        "8a9f2612397b436b95a1b42be2af7b2a": {
          "model_module": "@jupyter-widgets/controls",
          "model_name": "TextModel",
          "model_module_version": "1.5.0",
          "state": {
            "_dom_classes": [],
            "_model_module": "@jupyter-widgets/controls",
            "_model_module_version": "1.5.0",
            "_model_name": "TextModel",
            "_view_count": null,
            "_view_module": "@jupyter-widgets/controls",
            "_view_module_version": "1.5.0",
            "_view_name": "TextView",
            "continuous_update": true,
            "description": "Kaggle test set",
            "description_tooltip": null,
            "disabled": false,
            "layout": "IPY_MODEL_1e02954cc87b4928bb84ccb5dc62dc71",
            "placeholder": "​",
            "style": "IPY_MODEL_d16fefa2db9e42bf988255e1358181ed",
            "value": "drive/MyDrive/taxifare/kaggle_test_rich.parquet"
          }
        },
        "1e02954cc87b4928bb84ccb5dc62dc71": {
          "model_module": "@jupyter-widgets/base",
          "model_name": "LayoutModel",
          "model_module_version": "1.2.0",
          "state": {
            "_model_module": "@jupyter-widgets/base",
            "_model_module_version": "1.2.0",
            "_model_name": "LayoutModel",
            "_view_count": null,
            "_view_module": "@jupyter-widgets/base",
            "_view_module_version": "1.2.0",
            "_view_name": "LayoutView",
            "align_content": null,
            "align_items": null,
            "align_self": null,
            "border": null,
            "bottom": null,
            "display": null,
            "flex": null,
            "flex_flow": null,
            "grid_area": null,
            "grid_auto_columns": null,
            "grid_auto_flow": null,
            "grid_auto_rows": null,
            "grid_column": null,
            "grid_gap": null,
            "grid_row": null,
            "grid_template_areas": null,
            "grid_template_columns": null,
            "grid_template_rows": null,
            "height": null,
            "justify_content": null,
            "justify_items": null,
            "left": null,
            "margin": null,
            "max_height": null,
            "max_width": null,
            "min_height": null,
            "min_width": null,
            "object_fit": null,
            "object_position": null,
            "order": null,
            "overflow": null,
            "overflow_x": null,
            "overflow_y": null,
            "padding": null,
            "right": null,
            "top": null,
            "visibility": null,
            "width": null
          }
        },
        "d16fefa2db9e42bf988255e1358181ed": {
          "model_module": "@jupyter-widgets/controls",
          "model_name": "DescriptionStyleModel",
          "model_module_version": "1.5.0",
          "state": {
            "_model_module": "@jupyter-widgets/controls",
            "_model_module_version": "1.5.0",
            "_model_name": "DescriptionStyleModel",
            "_view_count": null,
            "_view_module": "@jupyter-widgets/base",
            "_view_module_version": "1.2.0",
            "_view_name": "StyleView",
            "description_width": ""
          }
        },
        "4022e2066db6401c90b592892369f7e4": {
          "model_module": "@jupyter-widgets/controls",
          "model_name": "TextModel",
          "model_module_version": "1.5.0",
          "state": {
            "_dom_classes": [],
            "_model_module": "@jupyter-widgets/controls",
            "_model_module_version": "1.5.0",
            "_model_name": "TextModel",
            "_view_count": null,
            "_view_module": "@jupyter-widgets/controls",
            "_view_module_version": "1.5.0",
            "_view_name": "TextView",
            "continuous_update": true,
            "description": "Kaggle test set",
            "description_tooltip": null,
            "disabled": false,
            "layout": "IPY_MODEL_342d77955e4540b2b51a75550ce7ed4d",
            "placeholder": "​",
            "style": "IPY_MODEL_2ed32b549be34f5c960448d03602cd47",
            "value": "drive/MyDrive/taxifare/kaggle_submission.csv"
          }
        },
        "342d77955e4540b2b51a75550ce7ed4d": {
          "model_module": "@jupyter-widgets/base",
          "model_name": "LayoutModel",
          "model_module_version": "1.2.0",
          "state": {
            "_model_module": "@jupyter-widgets/base",
            "_model_module_version": "1.2.0",
            "_model_name": "LayoutModel",
            "_view_count": null,
            "_view_module": "@jupyter-widgets/base",
            "_view_module_version": "1.2.0",
            "_view_name": "LayoutView",
            "align_content": null,
            "align_items": null,
            "align_self": null,
            "border": null,
            "bottom": null,
            "display": null,
            "flex": null,
            "flex_flow": null,
            "grid_area": null,
            "grid_auto_columns": null,
            "grid_auto_flow": null,
            "grid_auto_rows": null,
            "grid_column": null,
            "grid_gap": null,
            "grid_row": null,
            "grid_template_areas": null,
            "grid_template_columns": null,
            "grid_template_rows": null,
            "height": null,
            "justify_content": null,
            "justify_items": null,
            "left": null,
            "margin": null,
            "max_height": null,
            "max_width": null,
            "min_height": null,
            "min_width": null,
            "object_fit": null,
            "object_position": null,
            "order": null,
            "overflow": null,
            "overflow_x": null,
            "overflow_y": null,
            "padding": null,
            "right": null,
            "top": null,
            "visibility": null,
            "width": null
          }
        },
        "2ed32b549be34f5c960448d03602cd47": {
          "model_module": "@jupyter-widgets/controls",
          "model_name": "DescriptionStyleModel",
          "model_module_version": "1.5.0",
          "state": {
            "_model_module": "@jupyter-widgets/controls",
            "_model_module_version": "1.5.0",
            "_model_name": "DescriptionStyleModel",
            "_view_count": null,
            "_view_module": "@jupyter-widgets/base",
            "_view_module_version": "1.2.0",
            "_view_name": "StyleView",
            "description_width": ""
          }
        }
      }
    }
  },
  "nbformat": 4,
  "nbformat_minor": 0
}