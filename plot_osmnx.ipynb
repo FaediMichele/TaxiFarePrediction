{
 "cells": [
  {
   "attachments": {},
   "cell_type": "markdown",
   "metadata": {},
   "source": [
    "\n",
    "# OpenStreetMap with OSMnx\n",
    "\n",
    "This example shows how to use OSMnx to download and model a street network\n",
    "from OpenStreetMap, visualize centrality, and save the graph as a shapefile,\n",
    "a GeoPackage, or GraphML.\n",
    "\n",
    "OSMnx is a Python package to retrieve, model, analyze, and visualize\n",
    "OpenStreetMap street networks as NetworkX MultiDiGraph objects. It can also\n",
    "retrieve any other spatial data from OSM as geopandas GeoDataFrames. See\n",
    "https://osmnx.readthedocs.io/ for OSMnx documentation and usage.\n"
   ]
  },
  {
   "cell_type": "code",
   "execution_count": null,
   "metadata": {},
   "outputs": [],
   "source": [
    "%matplotlib inline\n",
    "%load_ext autoreload\n",
    "%autoreload 2"
   ]
  },
  {
   "cell_type": "code",
   "execution_count": null,
   "metadata": {},
   "outputs": [],
   "source": [
    "import pickle\n",
    "import os\n",
    "import os.path\n",
    "import multiprocessing as mp\n",
    "import warnings\n",
    "from functools import partial\n",
    "\n",
    "import numpy as np\n",
    "import networkx as nx\n",
    "import osmnx as ox\n",
    "import polars as pl\n",
    "from tqdm.auto import tqdm\n",
    "from matplotlib import pyplot as plt\n",
    "\n",
    "from taxifare import data, boroughs\n",
    "\n",
    "ox.settings.log_console=True\n",
    "ox.settings.use_cache=True"
   ]
  },
  {
   "cell_type": "code",
   "execution_count": null,
   "metadata": {},
   "outputs": [],
   "source": [
    "# ~ 6m 26s\n",
    "# download street network data from OSM and construct a MultiDiGraph model\n",
    "\n",
    "def load_map(base_map: str, simplified_map: str, tolerance: float) -> nx.MultiDiGraph:\n",
    "    if os.path.exists(simplified_map):\n",
    "        print(f\"loading saved map {simplified_map}\")\n",
    "        H = ox.load_graphml(simplified_map)\n",
    "        print(f\"loaded saved map {simplified_map}\")\n",
    "        return H\n",
    "    elif os.path.exists(base_map):\n",
    "        print(\"Starting to simplify map. May require some time\")\n",
    "        H = ox.simplification._consolidate_intersections_rebuild_graph(\n",
    "            ox.load_graphml(base_map), tolerance=tolerance, reconnect_edges=True)\n",
    "        print(f\"simplified base_map({base_map}) with tollerance = {tolerance}\")\n",
    "        ox.save_graphml(H, filepath=simplified_map)\n",
    "        print(f\"saved simplified graph: {simplified_map}\")\n",
    "        return H\n",
    "    else:\n",
    "        print(\"downloading graph. May require some time\")\n",
    "        G = ox.graph.graph_from_place(\"New York City, New York, USA\")\n",
    "        print(\"downloaded graph\")\n",
    "        G = ox.utils_graph.get_largest_component(G, strongly=True)\n",
    "        print(\"Removed unconnected nodes\")\n",
    "        G = ox.add_edge_speeds(G)\n",
    "        G = ox.add_edge_travel_times(G)\n",
    "        print(\"added edge speeds and travel times\")\n",
    "        ox.save_graphml(G, filepath=base_map)\n",
    "        print(f\"saved base map: {base_map}\")\n",
    "        print(\"Starting to simplify map. May require some time\")\n",
    "        H = ox.simplification._consolidate_intersections_rebuild_graph(\n",
    "            G, tolerance=tolerance, reconnect_edges=True)\n",
    "        print(f\"simplified with tollerance = {tolerance}\")\n",
    "        ox.save_graphml(H, filepath=simplified_map)\n",
    "        print(f\"saved simplified graph: {simplified_map}\")\n",
    "        return H\n",
    "\n",
    "def plot_graph(G: nx.MultiDiGraph):\n",
    "    ox.plot_graph(\n",
    "        G, bgcolor=\"k\", node_size=1, edge_linewidth=1, edge_color=\"#333333\",\n",
    "        figsize=(20, 20)\n",
    "    )"
   ]
  },
  {
   "cell_type": "code",
   "execution_count": null,
   "metadata": {},
   "outputs": [],
   "source": [
    "base_map = 'new_york_base.graphml'\n",
    "tolerance = 0.00025\n",
    "simplified_map = f'new_york_{tolerance}.graphml'\n",
    "\n",
    "# load data ~1m 50s\n",
    "G = load_map(base_map, simplified_map, tolerance)\n",
    "df = data.load_data().fetch(500_000)"
   ]
  },
  {
   "cell_type": "code",
   "execution_count": null,
   "metadata": {},
   "outputs": [],
   "source": [
    "plot_graph(G)\n",
    "plt.show()"
   ]
  },
  {
   "attachments": {},
   "cell_type": "markdown",
   "metadata": {},
   "source": [
    "## Aproximated distance\n",
    "\n",
    "Instead of calculating the distance for all points we calculate only for pairs of neigborhood"
   ]
  },
  {
   "cell_type": "code",
   "execution_count": null,
   "metadata": {},
   "outputs": [],
   "source": [
    "kdtree = data.kdtree_from_graph(G)\n",
    "G_undirected = G.to_undirected()"
   ]
  },
  {
   "cell_type": "code",
   "execution_count": null,
   "metadata": {},
   "outputs": [],
   "source": [
    "travel_times_path = 'datasets/travel_times_simplified.pkl'\n",
    "\n",
    "if os.path.exists(travel_times_path):\n",
    "    with open(travel_times_path, 'rb') as f:\n",
    "            warnings.warn('Distance matrix is a pickled file: use only '\n",
    "                          'from trusted sources')\n",
    "            travel_times = pickle.load(f)\n",
    "    print(f'loaded from file {travel_times_path}')\n",
    "else:\n",
    "    travel_times = data.compute_graph_distances(G_undirected)"
   ]
  }
 ],
 "metadata": {
  "kernelspec": {
   "display_name": "fare-prediction",
   "language": "python",
   "name": "fare-prediction"
  },
  "language_info": {
   "codemirror_mode": {
    "name": "ipython",
    "version": 3
   },
   "file_extension": ".py",
   "mimetype": "text/x-python",
   "name": "python",
   "nbconvert_exporter": "python",
   "pygments_lexer": "ipython3",
   "version": "3.11.3"
  }
 },
 "nbformat": 4,
 "nbformat_minor": 1
}
