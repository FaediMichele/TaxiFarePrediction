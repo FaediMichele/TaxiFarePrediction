{
 "cells": [
  {
   "cell_type": "code",
   "execution_count": null,
   "id": "8973aed2",
   "metadata": {},
   "outputs": [],
   "source": [
    "import matplotlib.pyplot as plt\n",
    "import polars as pl\n",
    "import util\n",
    "from sklearn.model_selection import train_test_split\n",
    "from sklearn.preprocessing import MinMaxScaler\n",
    "import osmnx as ox\n",
    "import numpy as np\n",
    "import math"
   ]
  },
  {
   "cell_type": "code",
   "execution_count": null,
   "id": "84a04345",
   "metadata": {},
   "outputs": [],
   "source": [
    "df = util.load_data().fetch(500_000)\n",
    "# df = util.load_data().collect()\n",
    "\n",
    "# Run preprocess.py to obtain the parquet dataset\n",
    "# df = pl.read_parquet('datasets/train.parquet')\n",
    "df.head()"
   ]
  },
  {
   "cell_type": "code",
   "execution_count": null,
   "id": "af69c78f",
   "metadata": {
    "scrolled": true
   },
   "outputs": [],
   "source": [
    "df.shape"
   ]
  },
  {
   "cell_type": "markdown",
   "id": "a31e055e",
   "metadata": {},
   "source": [
    "## Data distribution"
   ]
  },
  {
   "cell_type": "code",
   "execution_count": null,
   "id": "2011de25",
   "metadata": {},
   "outputs": [],
   "source": [
    "# NB: This plot takes a lot of time\n",
    "util.plot_distributions(df)"
   ]
  },
  {
   "cell_type": "code",
   "execution_count": null,
   "id": "df988135",
   "metadata": {},
   "outputs": [],
   "source": [
    "plt.hist(df['fare_amount'], bins=60, range=(0, 60))\n",
    "plt.title('Closeup - fare amount')\n",
    "plt.show()"
   ]
  },
  {
   "cell_type": "code",
   "execution_count": null,
   "id": "ca701b23",
   "metadata": {},
   "outputs": [],
   "source": [
    "plt.hist(df['pickup_latitude'], bins=60, range=(40.65, 40.85))\n",
    "plt.title('Closeup - pickup latitude')\n",
    "plt.show()"
   ]
  },
  {
   "cell_type": "code",
   "execution_count": null,
   "id": "0936fa5c",
   "metadata": {},
   "outputs": [],
   "source": [
    "plt.hist(df['pickup_longitude'], bins=60, range=(-74.1, -73.75))\n",
    "plt.title('Closeup - pickup longitude')\n",
    "plt.show()"
   ]
  },
  {
   "cell_type": "code",
   "execution_count": null,
   "id": "c4c70059",
   "metadata": {},
   "outputs": [],
   "source": [
    "plt.hist(df['pickup_datetime'], bins=7)\n",
    "plt.title('Closeup - Timestamp')\n",
    "plt.show()"
   ]
  },
  {
   "cell_type": "markdown",
   "id": "77f6ac03",
   "metadata": {},
   "source": [
    "The distributions suggest the existence of unrealistic data (noise?) and outliers (hundres of passengers for one run, thosands of dollars for a single run). Min and max values show this very clearly. Before moving on with other statistics, it may be a good idea to clear the data further."
   ]
  },
  {
   "cell_type": "code",
   "execution_count": null,
   "id": "48c48e01",
   "metadata": {},
   "outputs": [],
   "source": [
    "df.describe()"
   ]
  },
  {
   "cell_type": "markdown",
   "id": "9c6fa9fc",
   "metadata": {},
   "source": [
    "### Passenger count\n",
    "According to the [NYC taxi commission](https://www.nyc.gov/site/tlc/passengers/passenger-frequently-asked-questions.page#:~:text=The%20maximum%20amount%20of%20passengers,of%20an%20adult%20passenger%20seated) the maximum number of passengers, for suitable vehicles, is five. An additional sixth person (child) is admitted. Thus, it is possible to consider all samples that exceed the number of six passengers to be noise. In fact, values greater than six are highly underrepresented."
   ]
  },
  {
   "cell_type": "code",
   "execution_count": null,
   "id": "6f9a9f71",
   "metadata": {},
   "outputs": [],
   "source": [
    "df.groupby('passenger_count').agg(pl.count()).sort('passenger_count')"
   ]
  },
  {
   "cell_type": "code",
   "execution_count": null,
   "id": "5feda27f",
   "metadata": {},
   "outputs": [],
   "source": [
    "df = df.filter(pl.col('passenger_count') <= 6)"
   ]
  },
  {
   "cell_type": "markdown",
   "id": "b2632f50",
   "metadata": {},
   "source": [
    "## Analyzing spatial locations"
   ]
  },
  {
   "cell_type": "code",
   "execution_count": null,
   "id": "fe1d2f0e",
   "metadata": {},
   "outputs": [],
   "source": [
    "# train, test = train_test_split(df, test_size=0.2)\n",
    "# train, valid = train_test_split(train, test_size=0.2)"
   ]
  },
  {
   "cell_type": "code",
   "execution_count": null,
   "id": "1e91ef84",
   "metadata": {},
   "outputs": [],
   "source": [
    "def print_point_on_map(ax, x, y, points_area, image_size, image, markersize=.5, color='b', title=None):\n",
    "    x_printable, y_printable = util.normalize_points(x, y, points_area, image_size)\n",
    "    \n",
    "    ax.imshow(image, extent=[0, image_size[0], 0, image_size[1]])\n",
    "    ax.scatter(x_printable, y_printable, markersize, color)\n",
    "    if title is not None:\n",
    "        ax.title.set_text(str(title))"
   ]
  },
  {
   "cell_type": "code",
   "execution_count": null,
   "id": "813021fb",
   "metadata": {
    "scrolled": true
   },
   "outputs": [],
   "source": [
    "x = df['pickup_longitude'].append(df['dropoff_longitude'])\n",
    "y = df['pickup_latitude'].append(df['dropoff_latitude'])\n",
    "points_area = x.min(), x.max(), y.min(), y.max()\n",
    "\n",
    "# Make the area a square\n",
    "width = util.distance((points_area[0],points_area[2]), (points_area[1],points_area[2]))\n",
    "height = util.distance((points_area[0],points_area[2]), (points_area[0],points_area[3]))\n",
    "\n",
    "additional_space = (width - height)/2\n",
    "\n",
    "new_lat_min, _ = util.find_latitude_correction((points_area[0],points_area[2]), additional_space, b=-1)\n",
    "new_lat_max, _ = util.find_latitude_correction((points_area[0],points_area[3]), additional_space, b=1)\n",
    "\n",
    "points_area = points_area[0], points_area[1], new_lat_min, new_lat_max\n",
    "# print(util.distance((points_area[0],points_area[2]), (points_area[1],points_area[2])))\n",
    "# print(util.distance((points_area[1],points_area[2]), (points_area[1],points_area[3])))\n",
    "# print(util.distance((points_area[1],points_area[3]), (points_area[0],points_area[3])))\n",
    "# print(util.distance((points_area[0],points_area[3]), (points_area[0],points_area[2])))\n",
    "\n",
    "# image_size = (2048, 2048)\n",
    "image_size = (2000, 2000)\n",
    "image = util.get_image_from_coordinate(points_area, image_size)\n",
    "image = util.crop_image_with_borders(image)\n",
    "image_size = image.size\n",
    "# image.save('map.png')\n",
    "plt.imshow(image)\n",
    "plt.show()\n",
    "print(points_area)"
   ]
  },
  {
   "cell_type": "code",
   "execution_count": null,
   "id": "de1b3e8d",
   "metadata": {
    "scrolled": true
   },
   "outputs": [],
   "source": [
    "# Remove points on ocean, not working at the moment\n",
    "ocean_pickup = df.select(\n",
    "    pl.struct(['pickup_longitude', 'pickup_latitude', 'dropoff_longitude', 'dropoff_latitude'])\n",
    "    .map(util.polars_point_on_ocean(points_area, only_pickup=True, both=False))\n",
    "    ).get_columns()[0].alias('ocean_pickup')\n",
    "ocean_dropoff = df.select(\n",
    "    pl.struct(['pickup_longitude', 'pickup_latitude', 'dropoff_longitude', 'dropoff_latitude'])\n",
    "    .map(util.polars_point_on_ocean(points_area, only_pickup=False, both=False))\n",
    "    ).get_columns()[0].alias('ocean_dropoff')\n",
    "\n",
    "print('Pickups in the ocean', ocean_pickup.arg_true().shape[0])\n",
    "print('Dropoffs in the ocean', ocean_dropoff.arg_true().shape[0])\n",
    "print('Total ocean outlier samples',\n",
    "      (ocean_dropoff | ocean_pickup).arg_true().shape[0])\n",
    "\n",
    "outsiders_pickup = df.filter(ocean_pickup)\n",
    "outsiders_dropoff = df.filter(ocean_dropoff)"
   ]
  },
  {
   "cell_type": "code",
   "execution_count": null,
   "id": "37652200",
   "metadata": {},
   "outputs": [],
   "source": [
    "fig, axs = plt.subplots(1, 2, figsize=(30, 30))\n",
    "\n",
    "print_point_on_map(axs[0], outsiders_pickup['pickup_longitude'], outsiders_pickup['pickup_latitude'], points_area, image_size, image, color='b', markersize=3)\n",
    "print_point_on_map(axs[1], outsiders_dropoff['dropoff_longitude'], outsiders_dropoff['dropoff_latitude'], points_area, image_size, image, color='r', markersize=3)"
   ]
  },
  {
   "cell_type": "code",
   "execution_count": null,
   "id": "a7857833",
   "metadata": {},
   "outputs": [],
   "source": [
    "df = df.filter(~ocean_pickup & ~ocean_dropoff)"
   ]
  },
  {
   "cell_type": "code",
   "execution_count": null,
   "id": "60f95cf0",
   "metadata": {},
   "outputs": [],
   "source": [
    "fig, axs = plt.subplots(1, 2, figsize=(50, 50))\n",
    "print_point_on_map(axs[0], df['pickup_longitude'], df['pickup_latitude'], points_area, image_size, image, color='b')\n",
    "print_point_on_map(axs[1], df['dropoff_longitude'], df['dropoff_latitude'], points_area, image_size, image, color='r')"
   ]
  },
  {
   "cell_type": "code",
   "execution_count": null,
   "id": "627ad8c8",
   "metadata": {
    "scrolled": false
   },
   "outputs": [],
   "source": [
    "timezone = -5\n",
    "lavorative_hours = (8, 18)\n",
    "\n",
    "day_hours = df.filter((pl.col(\"pickup_datetime\").dt.hour() > lavorative_hours[0]+timezone) & (pl.col(\"pickup_datetime\").dt.hour() < lavorative_hours[1]+timezone))\n",
    "night_hours = df.filter((pl.col(\"pickup_datetime\").dt.hour() <= lavorative_hours[0]+timezone) | (pl.col(\"pickup_datetime\").dt.hour() >= lavorative_hours[1]+timezone))\n",
    "\n",
    "print(len(day_hours), len(night_hours))\n",
    "\n",
    "x_day = day_hours['pickup_longitude'].append(day_hours['dropoff_longitude'])\n",
    "y_day = day_hours['pickup_latitude'].append(day_hours['dropoff_latitude'])\n",
    "\n",
    "x_night = night_hours['pickup_longitude'].append(night_hours['dropoff_longitude'])\n",
    "y_night = night_hours['pickup_latitude'].append(night_hours['dropoff_latitude'])\n",
    "\n",
    "fig, axs = plt.subplots(1, 2, figsize=(16, 16))\n",
    "print_point_on_map(axs[0], x_day, y_day, points_area, image_size, image, color='b', markersize=0.1)\n",
    "print_point_on_map(axs[1], x_night, y_night, points_area, image_size, image, color='r', markersize=0.1)"
   ]
  },
  {
   "cell_type": "code",
   "execution_count": null,
   "id": "a92b483e",
   "metadata": {
    "scrolled": false
   },
   "outputs": [],
   "source": [
    "hours = []\n",
    "\n",
    "for h in range(5,29):\n",
    "    hour_df = df.filter(pl.col(\"pickup_datetime\").dt.hour() == h % 24)\n",
    "    hours.append((hour_df['pickup_longitude'].append(hour_df['dropoff_longitude']),\n",
    "                  hour_df['pickup_latitude'].append(hour_df['dropoff_latitude']),\n",
    "                  len(hour_df)))\n",
    "    \n",
    "fig, axs = plt.subplots(6, 4, figsize=(16, 20))\n",
    "for h in range(24):\n",
    "    print_point_on_map(axs[h//4, h % 4], hours[h][0], hours[h][1], points_area, image_size, image, color='b',\n",
    "                       title=f'{(h) % 24}. {hours[h][2]} rides', markersize=0.05)"
   ]
  },
  {
   "cell_type": "code",
   "execution_count": null,
   "id": "8753e50c",
   "metadata": {},
   "outputs": [],
   "source": [
    "import importlib\n",
    "importlib.reload(util)"
   ]
  }
 ],
 "metadata": {
  "kernelspec": {
   "display_name": "fare-prediction",
   "language": "python",
   "name": "fare-prediction"
  },
  "language_info": {
   "codemirror_mode": {
    "name": "ipython",
    "version": 3
   },
   "file_extension": ".py",
   "mimetype": "text/x-python",
   "name": "python",
   "nbconvert_exporter": "python",
   "pygments_lexer": "ipython3",
   "version": "3.10.9"
  }
 },
 "nbformat": 4,
 "nbformat_minor": 5
}
