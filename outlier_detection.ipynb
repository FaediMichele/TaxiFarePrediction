{
 "cells": [
  {
   "attachments": {},
   "cell_type": "markdown",
   "metadata": {},
   "source": [
    "# Outlier detection\n",
    "\n",
    "The dataset contains a large number of samples that are trivially wrong: only by considering the points whose latitude and longitude fall approximately in the New York City area, several samples can be removed. This leads to the possibility that also in New York City there are several point that can be removed."
   ]
  },
  {
   "cell_type": "code",
   "execution_count": null,
   "metadata": {},
   "outputs": [],
   "source": [
    "import matplotlib.pyplot as plt\n",
    "import polars as pl\n",
    "import taxifare.data as data\n",
    "import taxifare.boroughs as boroughs\n",
    "from sklearn.model_selection import train_test_split\n",
    "from sklearn.linear_model import LinearRegression\n",
    "import seaborn as sns\n",
    "import numpy as np\n",
    "import math\n"
   ]
  },
  {
   "cell_type": "code",
   "execution_count": null,
   "metadata": {},
   "outputs": [],
   "source": [
    "df = data.load_data().fetch(500_000)\n",
    "# df = data.load_data().collect()\n",
    "\n",
    "# Run preprocess.py to obtain the parquet dataset\n",
    "# df = pl.read_parquet('datasets/train.parquet')\n",
    "df.head()"
   ]
  },
  {
   "cell_type": "code",
   "execution_count": null,
   "metadata": {},
   "outputs": [],
   "source": [
    "describe_infos = df.describe()\n",
    "describe_infos"
   ]
  },
  {
   "attachments": {},
   "cell_type": "markdown",
   "metadata": {},
   "source": [
    "### Passenger count\n",
    "According to the [NYC taxi commission](https://www.nyc.gov/site/tlc/passengers/passenger-frequently-asked-questions.page#:~:text=The%20maximum%20amount%20of%20passengers,of%20an%20adult%20passenger%20seated) the maximum number of passengers, for suitable vehicles, is five. An additional sixth person (child) is admitted. Thus, it is possible to consider all samples that exceed the number of six passengers to be noise. In fact, values greater than six are highly underrepresented."
   ]
  },
  {
   "cell_type": "code",
   "execution_count": null,
   "metadata": {},
   "outputs": [],
   "source": [
    "df.groupby('passenger_count').agg(pl.count()).sort('passenger_count')"
   ]
  },
  {
   "cell_type": "code",
   "execution_count": null,
   "metadata": {},
   "outputs": [],
   "source": [
    "df = df.filter(pl.col('passenger_count') <= 6)"
   ]
  },
  {
   "attachments": {},
   "cell_type": "markdown",
   "metadata": {},
   "source": [
    "## Analyzing spatial locations\n",
    "Thanks to [1] we can download a map of New York City that help us visualyze the pickup and dropoff locations.\n",
    "There are several style that can be used but for our purposes is useful to have a map without any label or decoration.\n",
    "\n",
    "To download the image of the map we have to give a bounding box of the area we wanto to download, for visualization purposes we chose to use a square bounding box (mind that a square in a sphere is not a square in a plane so there are additional steps to do)."
   ]
  },
  {
   "cell_type": "code",
   "execution_count": null,
   "metadata": {},
   "outputs": [],
   "source": [
    "max_values = describe_infos.filter(pl.col('describe') == 'max').select(['pickup_longitude', 'pickup_latitude', 'dropoff_longitude', 'dropoff_latitude'])\n",
    "min_values = describe_infos.filter(pl.col('describe') == 'min').select(['pickup_longitude', 'pickup_latitude', 'dropoff_longitude', 'dropoff_latitude'])\n",
    "x_max = max(max_values['pickup_longitude'][0], max_values['dropoff_longitude'][0])\n",
    "y_max = max(max_values['pickup_latitude'][0], max_values['dropoff_latitude'][0])\n",
    "x_min = min(min_values['pickup_longitude'][0], min_values['dropoff_longitude'][0])\n",
    "y_min = min(min_values['pickup_latitude'][0], min_values['dropoff_latitude'][0])\n",
    "\n",
    "# Make the area a square\n",
    "width = data.distance((x_min,y_min), (x_max,y_min))\n",
    "height = data.distance((x_min,y_min), (x_min,y_max))\n",
    "\n",
    "assert width > height\n",
    "\n",
    "additional_space = (width - height)/2\n",
    "\n",
    "new_lat_min, _ = data.find_latitude_correction((x_min,y_min), additional_space, b=-1)\n",
    "new_lat_max, _ = data.find_latitude_correction((x_min,y_max), additional_space, b=1)\n",
    "\n",
    "points_area = x_min, x_max, new_lat_min, new_lat_max\n",
    "\n",
    "url = 'https://b.basemaps.cartocdn.com/light_nolabels/{z}/{x}/{y}.png'\n",
    "image = data.new_york_map(points_area)\n",
    "\n",
    "plt.imshow(image)\n",
    "plt.show()\n",
    "print(points_area)"
   ]
  },
  {
   "attachments": {},
   "cell_type": "markdown",
   "metadata": {},
   "source": [
    "## Detecting point on the ocean - Oceanic detection\n",
    "Now that we have a map of New York City we can use the image as a mask to filter out the points that falls into the ocean"
   ]
  },
  {
   "cell_type": "code",
   "execution_count": null,
   "metadata": {},
   "outputs": [],
   "source": [
    "# Remove points on ocean, not working at the moment\n",
    "ocean_pickup = df.select(\n",
    "    pl.struct(['pickup_longitude', 'pickup_latitude', 'dropoff_longitude', 'dropoff_latitude'])\n",
    "    .map(data.polars_point_on_ocean(points_area, pickup=True))\n",
    "    ).get_columns()[0].alias('ocean_pickup')\n",
    "ocean_dropoff = df.select(\n",
    "    pl.struct(['pickup_longitude', 'pickup_latitude', 'dropoff_longitude', 'dropoff_latitude'])\n",
    "    .map(data.polars_point_on_ocean(points_area, dropoff=True))\n",
    "    ).get_columns()[0].alias('ocean_dropoff')\n",
    "\n",
    "print('Pickups in the ocean', ocean_pickup.arg_true().shape[0])\n",
    "print('Dropoffs in the ocean', ocean_dropoff.arg_true().shape[0])\n",
    "print('Total ocean outlier samples',\n",
    "      (ocean_dropoff | ocean_pickup).arg_true().shape[0])\n",
    "\n",
    "outsiders_pickup = df.filter(ocean_pickup)\n",
    "outsiders_dropoff = df.filter(ocean_dropoff)"
   ]
  },
  {
   "cell_type": "code",
   "execution_count": null,
   "metadata": {},
   "outputs": [],
   "source": [
    "def print_point_on_map(ax, x, y, points_area, image, markersize=.5, color='b', title=None):\n",
    "    left, right, bottom, top = points_area\n",
    "    ax.imshow(image, extent=(left, right, bottom, top))\n",
    "    ax.set_ylim(bottom, top)\n",
    "    ax.set_xlim(left, right)\n",
    "    ax.scatter(x, y, markersize, color)\n",
    "    if title is not None:\n",
    "        ax.title.set_text(str(title))"
   ]
  },
  {
   "cell_type": "code",
   "execution_count": null,
   "metadata": {},
   "outputs": [],
   "source": [
    "fig, axs = plt.subplots(1, 2, figsize=(30, 30))\n",
    "\n",
    "print_point_on_map(axs[0], outsiders_pickup['pickup_longitude'], outsiders_pickup['pickup_latitude'], points_area, image, color='b', markersize=3)\n",
    "print_point_on_map(axs[1], outsiders_dropoff['dropoff_longitude'], outsiders_dropoff['dropoff_latitude'], points_area, image, color='r', markersize=3)"
   ]
  },
  {
   "cell_type": "code",
   "execution_count": null,
   "metadata": {},
   "outputs": [],
   "source": [
    "df = df.filter(~ocean_pickup & ~ocean_dropoff)"
   ]
  },
  {
   "attachments": {},
   "cell_type": "markdown",
   "metadata": {},
   "source": [
    "## Detectiong point outside boroughs\n",
    "\n",
    "Analyzing the dataset we noticed that the fee for the taxi also depends on the boroughs the pickup and dropoff location are. Noticing this fact we also included the boroughs and neighborhood of pickup and dropoff as a feature. Now that we have geographical information of boroughs we can remove additional outliers that are outside the area of New York City.\n",
    "\n",
    "This method makes the first oceanic detection usless because now we have a better filter but we decided to keep in this notebook that implementation anyway\n",
    "\n",
    "Thanks to [2] we filtered the samples that have pickup or dropoff outside the boroughs of New York City.\n",
    "\n",
    "Using the areas as polygons leads us to use low performance function to check if a point is inside a non convex shape. We can \"compile\" the polygons into an image and use it as an array to get the value associated to a position (similar to the oceanic detection). This increased the performance by 10x."
   ]
  },
  {
   "cell_type": "code",
   "execution_count": null,
   "metadata": {},
   "outputs": [],
   "source": [
    "boros = boroughs.load()"
   ]
  },
  {
   "cell_type": "code",
   "execution_count": null,
   "metadata": {},
   "outputs": [],
   "source": [
    "boros_image, boros_colors = boroughs.get_image_boroughs(boros, points_area)\n",
    "\n",
    "df = df.with_column(pl.struct(['pickup_longitude', 'pickup_latitude'])\n",
    "                    .map(boroughs.point_boroughs(boros_image, boros_colors, points_area, \"pickup_\")).alias('pickup_borough'))\n",
    "\n",
    "df = df.with_column(pl.struct(['dropoff_longitude', 'dropoff_latitude'])\n",
    "                    .map(boroughs.point_boroughs(boros_image, boros_colors, points_area, \"dropoff_\")).alias('dropoff_borough'))"
   ]
  },
  {
   "cell_type": "code",
   "execution_count": null,
   "metadata": {},
   "outputs": [],
   "source": [
    "df = df.filter((pl.col('pickup_borough') != 'None') & (pl.col('dropoff_borough') != 'None'))"
   ]
  },
  {
   "cell_type": "code",
   "execution_count": null,
   "metadata": {},
   "outputs": [],
   "source": [
    "fig, ax = plt.subplots(1, figsize=(30, 30))\n",
    "\n",
    "for b, color in zip(boros.values(), ['r','g','b','c', 'm', 'y']):\n",
    "    df_tmp = df.filter(pl.col('pickup_borough') == b['name'])\n",
    "    print_point_on_map(ax, df_tmp['pickup_longitude'], df_tmp['pickup_latitude'], points_area, image, color=color)"
   ]
  },
  {
   "attachments": {},
   "cell_type": "markdown",
   "metadata": {},
   "source": [
    "# References\n",
    "*TODO: properly cite?*\n",
    "\n",
    "[1]: CARTO basemap styles, https://github.com/CartoDB/basemap-styles\n",
    "[2]: New York City Neighborhoods, 2007, https://geodata.lib.utexas.edu/catalog/sde-columbia-nycp_2007_nynh"
   ]
  }
 ],
 "metadata": {
  "kernelspec": {
   "display_name": "fare-prediction",
   "language": "python",
   "name": "python3"
  },
  "language_info": {
   "codemirror_mode": {
    "name": "ipython",
    "version": 3
   },
   "file_extension": ".py",
   "mimetype": "text/x-python",
   "name": "python",
   "nbconvert_exporter": "python",
   "pygments_lexer": "ipython3",
   "version": "3.10.4"
  },
  "orig_nbformat": 4,
  "vscode": {
   "interpreter": {
    "hash": "696c235b3b902a0ba4aa434fdc36a015b2219ccdfa906ae5c584142149033b59"
   }
  }
 },
 "nbformat": 4,
 "nbformat_minor": 2
}
